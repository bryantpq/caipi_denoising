{
 "cells": [
  {
   "cell_type": "code",
   "execution_count": null,
   "id": "62055a18-98ba-454a-802b-5eb1aa5cf44f",
   "metadata": {},
   "outputs": [],
   "source": [
    "config_name = 'ps256_es64_loo_m3_test'\n",
    "# ps256_es64_loo_m3\n",
    "# ps256_es64_loo_m3_nonoise\n",
    "# ps256_es64_loo_m3_test\n",
    "# ps256_es64_th_m3_test\n",
    "\n",
    "\n",
    "%load_ext autoreload\n",
    "%autoreload 2\n",
    "\n",
    "import matplotlib.pyplot as plt\n",
    "import numpy as np\n",
    "import os\n",
    "import sys\n",
    "\n",
    "sys.path.insert(1, '/home/quahb/caipi_denoising/src')\n",
    "\n",
    "from utils.data_io import load_dataset\n",
    "from preparation.gen_data import get_train_data, get_test_data\n",
    "from evaluation.compute_metrics import compute_metrics\n",
    "\n",
    "dataset_folder = os.path.join('/home/quahb/caipi_denoising/data/results/', config_name)\n",
    "\n",
    "subj_volumes = load_dataset(dataset_folder)\n",
    "print(len(subj_volumes), subj_volumes.keys())\n",
    "random_key = list(subj_volumes.keys())[0]\n",
    "for i in subj_volumes[random_key]:\n",
    "    print(i.shape)"
   ]
  },
  {
   "cell_type": "code",
   "execution_count": null,
   "id": "9502190a-c617-47a8-bf5f-1398e62bff76",
   "metadata": {
    "tags": []
   },
   "outputs": [],
   "source": [
    "def plot_trainloo_set(subj_volumes, slc_index=128, mode='sagittal'):\n",
    "    fontsize=14\n",
    "    fig = plt.figure(figsize=(52,120))\n",
    "    plt.subplots_adjust(left=0.1,\n",
    "                        bottom=0.1, \n",
    "                        right=0.55, \n",
    "                        top=0.9, \n",
    "                        wspace=0.01, \n",
    "                        hspace=0.15)\n",
    "    n_row, n_col = 10, 3\n",
    "    print('Plotting {}/{} slices...'.format(n_row, len(subj_volumes.keys())))\n",
    "    for i, subj_id in enumerate(list(subj_volumes.keys())[:n_row]):\n",
    "\n",
    "        gt_img = subj_volumes[subj_id][0][:,:,:,0]\n",
    "        X_img  = subj_volumes[subj_id][1]\n",
    "        y_img  = subj_volumes[subj_id][2]\n",
    "        \n",
    "        if mode == 'sagittal':\n",
    "            gt_img = gt_img[slc_index,:,:]\n",
    "            X_img  = X_img[slc_index,:,:]\n",
    "            y_img  = y_img[slc_index,:,:]\n",
    "        elif mode == 'axial':\n",
    "            gt_img = gt_img[:,slc_index,:].transpose()\n",
    "            X_img  = X_img[:,slc_index,:].transpose()\n",
    "            y_img  = y_img[:,slc_index,:].transpose()\n",
    "\n",
    "        metrics_gt_X = compute_metrics(gt_img, X_img)\n",
    "        metrics_gt_y = compute_metrics(gt_img, y_img)\n",
    "\n",
    "        ax_gt = fig.add_subplot(n_row, n_col, i * n_col + 1)\n",
    "        ax_gt.imshow(gt_img, cmap='gray')\n",
    "        ax_gt.set_title(f'{subj_id}, Slice: {slc_index}', fontsize=fontsize)\n",
    "        ax_gt.set_xlabel('min: {:.3f}, max: {:.3f}, mean: {:.3f}, std: {:.3f}'.format(\n",
    "            np.min(gt_img), np.max(gt_img), np.mean(gt_img), np.std(gt_img)), fontsize=fontsize)\n",
    "\n",
    "        ax_X = fig.add_subplot(n_row, n_col, i * n_col + 2)\n",
    "        ax_X.imshow(X_img, cmap='gray')\n",
    "        ax_X.set_title('Noise Added, PSNR: {}, SSIM: {}'.format(metrics_gt_X['psnr'], metrics_gt_X['ssim']), fontsize=fontsize)\n",
    "        ax_X.set_xlabel('min: {:.3f}, max: {:.3f}, mean: {:.3f}, std: {:.3f}'.format(\n",
    "            np.min(X_img), np.max(X_img), np.mean(X_img), np.std(X_img)), fontsize=fontsize)\n",
    "\n",
    "        ax_y = fig.add_subplot(n_row, n_col, i * n_col + 3)\n",
    "        ax_y.imshow(y_img, cmap='gray')\n",
    "        ax_y.set_title('Denoised, PSNR: {}, SSIM: {}'.format(metrics_gt_y['psnr'], metrics_gt_y['ssim']), fontsize=fontsize)\n",
    "        ax_y.set_xlabel('min: {:.3f}, max: {:.3f}, mean: {:.3f}, std: {:.3f}'.format(\n",
    "            np.min(y_img), np.max(y_img), np.mean(y_img), np.std(y_img)), fontsize=fontsize)\n",
    "\n",
    "def plot_test_set(subj_volumes, slc_index=128, mode='sagittal'):\n",
    "    init_slc = 0\n",
    "    n_rows, n_cols = 10, 2\n",
    "\n",
    "    figure, axis = plt.subplots(n_rows, n_cols, figsize=(25,130))\n",
    "    print('Plotting {}/{} slices...'.format(n_rows, len(subj_volumes.keys())))\n",
    "    for i, subj_id in enumerate(list(subj_volumes.keys())[:n_rows]):\n",
    "        acc_vol, denoised_vol = subj_volumes[subj_id]\n",
    "        #vol_metrics_acc_den = compute_metrics(acc_vol, denoised_vol)\n",
    "        \n",
    "        if mode == 'sagittal':\n",
    "            acc_slc = acc_vol[slc_index,:,:]\n",
    "            denoised_slc = denoised_vol[slc_index,:,:]\n",
    "        elif mode == 'axial':\n",
    "            acc_slc = acc_vol[:,slc_index,:].transpose()\n",
    "            denoised_slc = denoised_vol[:,slc_index,:].transpose()\n",
    "        \n",
    "        slc_metrics_acc_den = compute_metrics(acc_slc, denoised_slc)\n",
    "        \n",
    "        axis[i, 0].imshow(acc_slc, cmap='gray')\n",
    "        #axis[i, 0].set_title('{}, Slice: {}, Whole volume PSNR: {}, SSIM: {}'.format(subj_id, slc_index, vol_metrics_acc_den['psnr'], vol_metrics_acc_den['ssim']))\n",
    "        axis[i, 0].set_title('{}, Slice: {}'.format(subj_id, slc_index))\n",
    "        axis[i, 0].set(xlabel='min: {:.3f}, max: {:.3f}, mean: {:.3f}, std: {:.3f}'.format(np.min(acc_slc), np.max(acc_slc), np.mean(acc_slc), np.std(acc_slc)))\n",
    "        \n",
    "        axis[i, 1].imshow(denoised_slc, cmap='gray')\n",
    "        axis[i, 1].set_title('Denoised, Slice PSNR: {}, SSIM: {}'.format(slc_metrics_acc_den['psnr'], slc_metrics_acc_den['ssim']))\n",
    "        axis[i, 1].set(xlabel='min: {:.3f}, max: {:.3f}, mean: {:.3f}, std: {:.3f}'.format(np.min(denoised_slc), np.max(denoised_slc), np.mean(denoised_slc), np.std(denoised_slc)))\n",
    "        init_slc += 1\n",
    "        \n",
    "    plt.show()"
   ]
  },
  {
   "cell_type": "markdown",
   "id": "3840f024-76c2-42e4-84c0-494637bc2be5",
   "metadata": {},
   "source": [
    "# Plot slices"
   ]
  },
  {
   "cell_type": "code",
   "execution_count": null,
   "id": "7f882469-9f77-4e2d-b807-3873beac8c5c",
   "metadata": {},
   "outputs": [],
   "source": [
    "view_mode='axial'\n",
    "slc_index=128\n",
    "\n",
    "if 'test' in config_name:\n",
    "    plot_test_set(subj_volumes, slc_index=slc_index, mode=view_mode)\n",
    "else:\n",
    "    plot_trainloo_set(subj_volumes, slc_index=slc_index, mode=view_mode)"
   ]
  },
  {
   "cell_type": "markdown",
   "id": "e0924fa3-e6f7-422f-9311-35a845a345ee",
   "metadata": {},
   "source": [
    "# Histogram Plot"
   ]
  },
  {
   "cell_type": "code",
   "execution_count": null,
   "id": "d0b701e9-95a8-4f49-8ed8-acd8f2a0db5e",
   "metadata": {},
   "outputs": [],
   "source": [
    "print(random_key)\n",
    "random_key = random_key # '1_07_047-V1_3D_T2STAR_segEPI'\n",
    "image = subj_volumes[random_key][1][128,:,:]\n",
    "\n",
    "histogram, bin_edges = np.histogram(image, bins=256, range=(np.min(image), np.max(image)))\n",
    "plt.figure()\n",
    "plt.title(random_key)\n",
    "plt.xlabel(\"grayscale value\")\n",
    "plt.ylabel(\"pixel count\")\n",
    "plt.xlim([np.min(image), np.max(image)])\n",
    "\n",
    "plt.plot(bin_edges[0:-1], histogram)\n",
    "plt.show()"
   ]
  },
  {
   "cell_type": "code",
   "execution_count": null,
   "id": "a31cb2f2-78e3-4f9d-b9e9-4f1939b4dc36",
   "metadata": {},
   "outputs": [],
   "source": []
  },
  {
   "cell_type": "code",
   "execution_count": null,
   "id": "7c98374b-2135-408e-b423-c1dcec9dfc9d",
   "metadata": {},
   "outputs": [],
   "source": []
  },
  {
   "cell_type": "code",
   "execution_count": null,
   "id": "3066e3ee-ef1a-44a0-9740-f7cde1766a09",
   "metadata": {},
   "outputs": [],
   "source": []
  },
  {
   "cell_type": "code",
   "execution_count": null,
   "id": "8f8b4ce8-855a-4f97-a803-147388de381d",
   "metadata": {},
   "outputs": [],
   "source": []
  },
  {
   "cell_type": "markdown",
   "id": "8b53a513-c54b-4427-83d4-9d6c186869f2",
   "metadata": {},
   "source": [
    "# Axial view"
   ]
  },
  {
   "cell_type": "code",
   "execution_count": null,
   "id": "c9b75e6d-79bb-4029-a9bd-e4d064012bcf",
   "metadata": {},
   "outputs": [],
   "source": [
    "X.shape, y.shape"
   ]
  },
  {
   "cell_type": "code",
   "execution_count": null,
   "id": "1e1ec0ec-57ca-4fd2-bd80-a6694c552f85",
   "metadata": {},
   "outputs": [],
   "source": []
  }
 ],
 "metadata": {
  "kernelspec": {
   "display_name": "Python 3 (ipykernel)",
   "language": "python",
   "name": "python3"
  },
  "language_info": {
   "codemirror_mode": {
    "name": "ipython",
    "version": 3
   },
   "file_extension": ".py",
   "mimetype": "text/x-python",
   "name": "python",
   "nbconvert_exporter": "python",
   "pygments_lexer": "ipython3",
   "version": "3.8.13"
  }
 },
 "nbformat": 4,
 "nbformat_minor": 5
}
