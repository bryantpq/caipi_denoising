{
 "cells": [
  {
   "cell_type": "code",
   "execution_count": null,
   "id": "acf93ccb-f0c3-4f22-ba50-a75e3d39bc06",
   "metadata": {},
   "outputs": [],
   "source": [
    "# Load the TensorBoard notebook extension.\n",
    "#%load_ext tensorboard\n",
    "\n",
    "# Setting --path_prefix /tensorboard is required\n",
    "#%tensorboard --logdir <path-to-your-logs> --path_prefix /tensorboard"
   ]
  },
  {
   "cell_type": "code",
   "execution_count": null,
   "id": "62055a18-98ba-454a-802b-5eb1aa5cf44f",
   "metadata": {},
   "outputs": [],
   "source": [
    "config_name = 'median_patches32_model1'\n",
    "full_or_patch  = 'patch'"
   ]
  },
  {
   "cell_type": "code",
   "execution_count": null,
   "id": "50b8abfa-a732-4a50-ad07-3c29db258e15",
   "metadata": {},
   "outputs": [],
   "source": [
    "import matplotlib.pyplot as plt\n",
    "import numpy as np\n",
    "import os\n",
    "\n",
    "import sys\n",
    "sys.path.insert(1, '/home/quahb/caipi_denoising/src')\n",
    "\n",
    "from utils.data_io import load_dataset\n",
    "from preparation.gen_data import get_test_data\n",
    "\n",
    "dataset_folder = os.path.join('/home/quahb/caipi_denoising/data/results/', config_name)"
   ]
  },
  {
   "cell_type": "code",
   "execution_count": null,
   "id": "c53ef3f5-b9a1-4de9-95e3-b9e896c0bc9c",
   "metadata": {},
   "outputs": [],
   "source": [
    "X, y = load_dataset(dataset_folder)\n",
    "X.shape, y.shape"
   ]
  },
  {
   "cell_type": "code",
   "execution_count": null,
   "id": "1bd395e3-ee0b-41c3-9066-06bc6817deb2",
   "metadata": {},
   "outputs": [],
   "source": [
    "def shuffle_data(X, y):\n",
    "    order = np.random.permutation(len(X))\n",
    "    return X[order], y[order]"
   ]
  },
  {
   "cell_type": "code",
   "execution_count": null,
   "id": "1cbd0cdb-08c3-4fb7-b625-b5049e2ac824",
   "metadata": {},
   "outputs": [],
   "source": [
    "X, y = shuffle_data(X, y)"
   ]
  },
  {
   "cell_type": "code",
   "execution_count": null,
   "id": "ea62d46c-6a87-4e17-b11b-fc208ac93c20",
   "metadata": {},
   "outputs": [],
   "source": [
    "def plot_results():\n",
    "    init_slc = 10\n",
    "    slcs_to_show = 5\n",
    "    \n",
    "    figure, axis = plt.subplots(slcs_to_show, 2, figsize=(27,60))\n",
    "    for i in range(slcs_to_show):\n",
    "        axis[i, 0].imshow(X[init_slc], cmap='gray')\n",
    "        axis[i, 1].imshow(y[init_slc], cmap='gray')\n",
    "        init_slc += 1\n",
    "        \n",
    "    plt.show()"
   ]
  },
  {
   "cell_type": "code",
   "execution_count": null,
   "id": "6d5f37c6-9f9c-4b6a-8b56-d20cffd270f5",
   "metadata": {},
   "outputs": [],
   "source": [
    "plot_results()"
   ]
  },
  {
   "cell_type": "code",
   "execution_count": null,
   "id": "c7d92666-5bf1-4b35-a213-c9450805fc3d",
   "metadata": {},
   "outputs": [],
   "source": []
  }
 ],
 "metadata": {
  "kernelspec": {
   "display_name": "Python 3 (ipykernel)",
   "language": "python",
   "name": "python3"
  },
  "language_info": {
   "codemirror_mode": {
    "name": "ipython",
    "version": 3
   },
   "file_extension": ".py",
   "mimetype": "text/x-python",
   "name": "python",
   "nbconvert_exporter": "python",
   "pygments_lexer": "ipython3",
   "version": "3.8.13"
  }
 },
 "nbformat": 4,
 "nbformat_minor": 5
}
