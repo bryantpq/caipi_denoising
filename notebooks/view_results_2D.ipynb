{
 "cells": [
  {
   "cell_type": "code",
   "execution_count": null,
   "id": "62055a18-98ba-454a-802b-5eb1aa5cf44f",
   "metadata": {},
   "outputs": [],
   "source": [
    "config_name = 'ps256_th_noextpad_m2_es1'\n",
    "full_or_patch  = 'patch'"
   ]
  },
  {
   "cell_type": "code",
   "execution_count": null,
   "id": "50b8abfa-a732-4a50-ad07-3c29db258e15",
   "metadata": {},
   "outputs": [],
   "source": [
    "import matplotlib.pyplot as plt\n",
    "import numpy as np\n",
    "import os\n",
    "import sys\n",
    "\n",
    "sys.path.insert(1, '/home/quahb/caipi_denoising/src')\n",
    "\n",
    "from utils.data_io import load_dataset\n",
    "from preparation.gen_data import get_test_data\n",
    "\n",
    "dataset_folder = os.path.join('/home/quahb/caipi_denoising/data/results/', config_name)"
   ]
  },
  {
   "cell_type": "code",
   "execution_count": null,
   "id": "c53ef3f5-b9a1-4de9-95e3-b9e896c0bc9c",
   "metadata": {},
   "outputs": [],
   "source": [
    "X, y = load_dataset(dataset_folder)\n",
    "\n",
    "X.shape, y.shape"
   ]
  },
  {
   "cell_type": "code",
   "execution_count": null,
   "id": "1bd395e3-ee0b-41c3-9066-06bc6817deb2",
   "metadata": {},
   "outputs": [],
   "source": [
    "def shuffle_data(X, y):\n",
    "    order = np.random.permutation(len(X))\n",
    "    return X[order], y[order]\n",
    "\n",
    "def plot_results():\n",
    "    init_slc = 0\n",
    "    slcs_to_show = 5\n",
    "    \n",
    "    print(f'Displaying {slcs_to_show}/{X.shape[0]} slices ...')\n",
    "    figure, axis = plt.subplots(slcs_to_show, 2, figsize=(20,45))\n",
    "    for i in range(slcs_to_show):\n",
    "        slc = X[init_slc]\n",
    "        axis[i, 0].imshow(slc, cmap='gray')\n",
    "        axis[i, 0].set_title(f'Slice {init_slc}: In')\n",
    "        axis[i, 0].set(xlabel='min: {:.3f}, max: {:.3f}, mean: {:.3f}, std: {:.3f}'.format(np.min(slc), np.max(slc), np.mean(slc), np.std(slc)))\n",
    "        slc = y[init_slc]\n",
    "        axis[i, 1].imshow(y[init_slc], cmap='gray')\n",
    "        axis[i, 1].set_title(f'Slice {init_slc}: Out')\n",
    "        axis[i, 1].set(xlabel='min: {:.3f}, max: {:.3f}, mean: {:.3f}, std: {:.3f}'.format(np.min(slc), np.max(slc), np.mean(slc), np.std(slc)))\n",
    "        init_slc += 1\n",
    "        \n",
    "    plt.show()"
   ]
  },
  {
   "cell_type": "code",
   "execution_count": null,
   "id": "1cbd0cdb-08c3-4fb7-b625-b5049e2ac824",
   "metadata": {},
   "outputs": [],
   "source": [
    "X, y = shuffle_data(X, y)"
   ]
  },
  {
   "cell_type": "code",
   "execution_count": null,
   "id": "6d5f37c6-9f9c-4b6a-8b56-d20cffd270f5",
   "metadata": {
    "tags": []
   },
   "outputs": [],
   "source": [
    "plot_results()"
   ]
  },
  {
   "cell_type": "code",
   "execution_count": null,
   "id": "c8c536b5-74ba-4c58-85a6-2b3c379e826c",
   "metadata": {},
   "outputs": [],
   "source": [
    "slice_i = 3\n",
    "\n",
    "figure, axis = plt.subplots(2, 2, figsize=(18,18))\n",
    "\n",
    "im = X[slice_i]\n",
    "stats = [np.min(im), np.max(im), np.mean(im), np.std(im)]\n",
    "axis[0, 0].imshow(im, cmap='gray')\n",
    "axis[0, 0].set_title(f'Slice {slice_i}')\n",
    "axis[0, 0].set(xlabel=f'min: {stats[0]}, max: {stats[1]}, mean: {stats[2]}, std: {stats[3]}')\n",
    "\n",
    "im= y[slice_i]\n",
    "stats = [np.min(im), np.max(im), np.mean(im), np.std(im)]\n",
    "axis[0, 1].imshow(im, cmap='gray')\n",
    "axis[0, 1].set_title(f'Network Output')\n",
    "axis[0, 1].set(xlabel=f'min: {stats[0]}, max: {stats[1]}, mean: {stats[2]}, std: {stats[3]}')\n",
    "\n",
    "im=X[slice_i] + y[slice_i]\n",
    "stats = [np.min(im), np.max(im), np.mean(im), np.std(im)]\n",
    "axis[1, 0].imshow(im, cmap='gray')\n",
    "axis[1, 0].set_title(f'Add network output')\n",
    "axis[1, 0].set(xlabel=f'min: {stats[0]}, max: {stats[1]}, mean: {stats[2]}, std: {stats[3]}')\n",
    "\n",
    "im=X[slice_i] - y[slice_i]\n",
    "stats = [np.min(im), np.max(im), np.mean(im), np.std(im)]\n",
    "axis[1, 1].imshow(im, cmap='gray')\n",
    "axis[1, 1].set_title(f'Subtract network output')\n",
    "axis[1, 1].set(xlabel=f'min: {stats[0]}, max: {stats[1]}, mean: {stats[2]}, std: {stats[3]}')\n",
    "\n",
    "\n",
    "plt.show()"
   ]
  },
  {
   "cell_type": "code",
   "execution_count": null,
   "id": "7c98374b-2135-408e-b423-c1dcec9dfc9d",
   "metadata": {},
   "outputs": [],
   "source": []
  },
  {
   "cell_type": "code",
   "execution_count": null,
   "id": "3066e3ee-ef1a-44a0-9740-f7cde1766a09",
   "metadata": {},
   "outputs": [],
   "source": []
  },
  {
   "cell_type": "code",
   "execution_count": null,
   "id": "8f8b4ce8-855a-4f97-a803-147388de381d",
   "metadata": {},
   "outputs": [],
   "source": []
  },
  {
   "cell_type": "code",
   "execution_count": null,
   "id": "5195866e-89c8-4b80-8bb4-66c950cf9c25",
   "metadata": {},
   "outputs": [],
   "source": [
    "from skimage.metrics import peak_signal_noise_ratio as psnr\n",
    "from skimage.metrics import structural_similarity as ssim"
   ]
  },
  {
   "cell_type": "code",
   "execution_count": null,
   "id": "0ad8a026-7c06-4baa-86de-320f5fba93f8",
   "metadata": {},
   "outputs": [],
   "source": [
    "figure, axis = plt.subplots(1, 2, figsize=(20,45))\n",
    "print(f'PSNR: {psnr(X[0], recon)}')\n",
    "print(f'SSIM: {ssim(X[0], recon)}')\n",
    "axis[0].imshow(X[0], cmap='gray')\n",
    "axis[1].imshow(recon, cmap='gray')"
   ]
  },
  {
   "cell_type": "markdown",
   "id": "8b53a513-c54b-4427-83d4-9d6c186869f2",
   "metadata": {},
   "source": [
    "# Axial view"
   ]
  },
  {
   "cell_type": "code",
   "execution_count": null,
   "id": "c9b75e6d-79bb-4029-a9bd-e4d064012bcf",
   "metadata": {},
   "outputs": [],
   "source": [
    "X.shape, y.shape"
   ]
  },
  {
   "cell_type": "code",
   "execution_count": null,
   "id": "1e1ec0ec-57ca-4fd2-bd80-a6694c552f85",
   "metadata": {},
   "outputs": [],
   "source": []
  }
 ],
 "metadata": {
  "kernelspec": {
   "display_name": "Python 3 (ipykernel)",
   "language": "python",
   "name": "python3"
  },
  "language_info": {
   "codemirror_mode": {
    "name": "ipython",
    "version": 3
   },
   "file_extension": ".py",
   "mimetype": "text/x-python",
   "name": "python",
   "nbconvert_exporter": "python",
   "pygments_lexer": "ipython3",
   "version": "3.8.13"
  }
 },
 "nbformat": 4,
 "nbformat_minor": 5
}
