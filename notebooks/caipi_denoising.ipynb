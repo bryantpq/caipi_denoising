{
 "cells": [
  {
   "cell_type": "markdown",
   "id": "87188d58",
   "metadata": {
    "tags": []
   },
   "source": [
    "# CAIPI Denoising"
   ]
  },
  {
   "cell_type": "markdown",
   "id": "60ed3130-a9e9-47fe-96e4-8ae33262b223",
   "metadata": {},
   "source": [
    "TODO\n",
    "\n",
    "- Add tensorboard functionality\n",
    "- Design more models\n",
    "- Add performance metrics - PSNR, SSIM\n",
    "- Add more data augmentation methods"
   ]
  },
  {
   "cell_type": "code",
   "execution_count": null,
   "id": "cd45ea7a-fe47-426a-b521-77e6ad2a28e6",
   "metadata": {},
   "outputs": [],
   "source": [
    "# Notebook imports\n",
    "\n",
    "import warnings\n",
    "warnings.filterwarnings('ignore')\n",
    "\n",
    "import sys\n",
    "import logging\n",
    "import os\n",
    "import matplotlib.pyplot as plt\n",
    "import tensorflow as tf\n",
    "import numpy as np\n",
    "\n",
    "# 0 = all messages are logged (default behavior)\n",
    "# 1 = INFO messages are not printed\n",
    "# 2 = INFO and WARNING messages are not printed\n",
    "# 3 = INFO, WARNING, and ERROR messages are not printed\n",
    "os.environ['TF_CPP_MIN_LOG_LEVEL'] = '3'\n",
    "\n",
    "# Refresh before importing python scripts\n",
    "%load_ext autoreload\n",
    "%autoreload 2\n",
    "\n",
    "import matplotlib as mpl\n",
    "mpl.rc('image', cmap='gray')\n",
    "\n",
    "# LOGGING WHEN NOTEBOOK DISCONNECTS\n",
    "nblog = open(\"nb.log\", \"a+\")\n",
    "sys.stdout.echo = nblog\n",
    "sys.stderr.echo = nblog\n",
    "\n",
    "get_ipython().log.handlers[0].stream = nblog\n",
    "get_ipython().log.setLevel(logging.INFO)\n",
    "\n",
    "%autosave 5\n",
    "\n",
    "print(tf.__version__)\n",
    "gpus = tf.config.list_physical_devices('GPU')\n",
    "print(gpus)"
   ]
  },
  {
   "cell_type": "code",
   "execution_count": null,
   "id": "fc990a7e-bb4f-4ed2-bf61-94913220fa9c",
   "metadata": {},
   "outputs": [],
   "source": [
    "PREPROCESSED_SAVE_PATH = '/home/quahb/caipi_denoising/data/preprocessed'\n",
    "\n",
    "PATCH_SIZE = (32, 32)\n",
    "EXTRACT_STEP = (32, 32)\n",
    "PAD_VALUE = -0.5\n",
    "train_preprocessing_params = {\n",
    "    'normalize': {},\n",
    "    \n",
    "    'pad_square': {\n",
    "        'value': PAD_VALUE\n",
    "    },\n",
    "    \n",
    "    'white_noise': {\n",
    "        'mu': 0.0,\n",
    "        'sigma': 0.15\n",
    "    },\n",
    "    \n",
    "    'extract_patches': {\n",
    "        'patch_size': PATCH_SIZE,\n",
    "        'extract_step': EXTRACT_STEP,\n",
    "        'pad_before_ext': False,\n",
    "        'pad_value': PAD_VALUE,\n",
    "    },\n",
    "    \n",
    "}\n",
    "\n",
    "# extract patches before white noise if pad_before_ext==True\n",
    "# we can add white noise to loaded patches\n",
    "X_train_ops = [\n",
    "    'normalize', \n",
    "    'pad_square', \n",
    "    'extract_patches', \n",
    "    'white_noise',\n",
    "]\n",
    "\n",
    "y_train_ops = [\n",
    "    'normalize', \n",
    "    'pad_square', \n",
    "    'extract_patches',\n",
    "]\n",
    "\n",
    "test_preprocessing_params = {\n",
    "    'normalize': {},\n",
    "    \n",
    "    'pad_square': {},\n",
    "    \n",
    "    'white_noise': {},\n",
    "    \n",
    "    'extract_patches': {\n",
    "        'patch_size': PATCH_SIZE,\n",
    "        'extract_step': (1, 1),  # should always be 1, 1 for reconstruction\n",
    "        'pad_before_ext': True\n",
    "    },\n",
    "    \n",
    "}\n",
    "\n",
    "X_test_ops = ['extract_patches']\n",
    "\n",
    "\n",
    "GPUS_TO_USE = [\"/GPU:0\", \"/GPU:1\", \"/GPU:2\", \"/GPU:3\"]\n",
    "MODEL_INPUT_SHAPE = (None, ) + PATCH_SIZE + (1, ) if 'extract_patches' in X_train_ops else (None, 384, 384, 1)\n",
    "VALID_SPLIT = 0.8\n",
    "MODEL_TYPE = 0\n",
    "PATIENCE = 5\n",
    "MODEL_PATH='/home/quahb/caipi_denoising/models'\n",
    "MODEL_FILENAME='denoiser_ep{epoch:02d}.h5'\n",
    "\n",
    "BATCH_SIZE = 20\n",
    "N_EPOCHS = 20\n",
    "INIT_EPOCH = 0"
   ]
  },
  {
   "cell_type": "markdown",
   "id": "9adf5ed2-1093-4761-9264-0df2e4ec1788",
   "metadata": {},
   "source": [
    "# Load Training Data"
   ]
  },
  {
   "cell_type": "code",
   "execution_count": null,
   "id": "6dc66a1f-2de1-4f18-9993-96fc907a1b6f",
   "metadata": {},
   "outputs": [],
   "source": [
    "from src.preparation.gen_data import get_data_dict, get_train_data, get_median_slices"
   ]
  },
  {
   "cell_type": "code",
   "execution_count": null,
   "id": "75e2a7d1-6ce7-4ba0-a37b-3a2713690b13",
   "metadata": {},
   "outputs": [],
   "source": [
    "X_train, y_train = get_train_data(median_slices=False)"
   ]
  },
  {
   "cell_type": "markdown",
   "id": "24206a02-e30c-43db-84e9-bc4ada6927da",
   "metadata": {},
   "source": [
    "# Plot median slices for each subject"
   ]
  },
  {
   "cell_type": "code",
   "execution_count": null,
   "id": "e47708b3-1804-4dbc-88c4-ebc92c0b2c8a",
   "metadata": {
    "tags": []
   },
   "outputs": [],
   "source": [
    "#print(dicoms_dict.keys(), dicoms_dict['1_01_016-V1'].keys(), len(dicoms_dict['1_01_016-V1']['3D_T2STAR_segEPI']))\n",
    "\n",
    "# Plot median slice for each subject for single modality\n",
    "\n",
    "dicoms_dict = get_data_dict('/home/quahb/caipi_denoising/data/data.json')\n",
    "\n",
    "def plot_subj_slices(modality=0):\n",
    "    MODALITY = modality \n",
    "    N_SLICES = X_train.shape[0]\n",
    "    LEFT_i, MEDIAN_i, RIGHT_i = 35, 128, 221\n",
    "    subj_list = list(dicoms_dict.keys())\n",
    "\n",
    "    columns = 4\n",
    "    rows    = len(subj_list) // columns + 1\n",
    "\n",
    "    plt.figure(figsize=(23,120))\n",
    "    for i in range(len(subj_list)):    \n",
    "        plt.subplot(rows, columns, i + 1)\n",
    "        plt.title(subj_list[i])\n",
    "\n",
    "        plt.imshow(X_train[i * 256 + MEDIAN_i], cmap=plt.cm.gray)\n",
    "        \n",
    "#plot_subj_slices(0) # ['3D_T2STAR_segEPI', 'CAIPI1x2', 'CAIPI1x3', 'CAIPI2x2']"
   ]
  },
  {
   "cell_type": "markdown",
   "id": "c0ea03ea-fb41-4e07-813e-6e0ed1ac545f",
   "metadata": {},
   "source": [
    "# Preprocess Training Data"
   ]
  },
  {
   "cell_type": "code",
   "execution_count": null,
   "id": "e12c1329-2701-419b-a259-50b014694656",
   "metadata": {},
   "outputs": [],
   "source": [
    "from src.preparation.np_preprocessing_pipeline import preprocess_data"
   ]
  },
  {
   "cell_type": "code",
   "execution_count": null,
   "id": "2f2d79af-5f76-4dd7-8afa-0d7bac23b8e4",
   "metadata": {},
   "outputs": [],
   "source": [
    "X_train.shape, y_train.shape"
   ]
  },
  {
   "cell_type": "code",
   "execution_count": null,
   "id": "49d8cc7f-a207-4148-8c82-2f6fac58b8f7",
   "metadata": {},
   "outputs": [],
   "source": [
    "shuffle_idx = np.random.permutation(len(X_train))"
   ]
  },
  {
   "cell_type": "code",
   "execution_count": null,
   "id": "7808ca6d-9278-41ff-8a29-2bdf85a6a5ce",
   "metadata": {},
   "outputs": [],
   "source": [
    "X_train_pp = preprocess_data(X_train,\n",
    "                             train_preprocessing_params,\n",
    "                             ops=X_train_ops,\n",
    "                             shuffle=shuffle_idx,\n",
    "                             save_path=PREPROCESSED_SAVE_PATH)"
   ]
  },
  {
   "cell_type": "code",
   "execution_count": null,
   "id": "09a51f84-eb9b-43a8-b052-e9b7a3613ddd",
   "metadata": {},
   "outputs": [],
   "source": [
    "y_train_pp = preprocess_data(y_train,\n",
    "                             train_preprocessing_params,\n",
    "                             ops=y_train_ops,\n",
    "                             shuffle=shuffle_idx,\n",
    "                             save_path=PREPROCESSED_SAVE_PATH)"
   ]
  },
  {
   "cell_type": "markdown",
   "id": "0a6f699d-425d-456a-bd57-bbf8975da13e",
   "metadata": {},
   "source": [
    "## Plot Preprocessed X_train vs y_train"
   ]
  },
  {
   "cell_type": "code",
   "execution_count": null,
   "id": "e82718a0-a83b-4e2b-9e9b-318e8a49d917",
   "metadata": {
    "tags": []
   },
   "outputs": [],
   "source": [
    "def plot_pp_io():\n",
    "    cols = 2\n",
    "    rows = 4\n",
    "\n",
    "    plt.figure(figsize=(27,40))\n",
    "    plt_i = 0\n",
    "    for i in range(16, 20):  # range of slices to view\n",
    "        plt.subplot(rows, cols, plt_i + 1)\n",
    "        plt.title('X_train_processed')\n",
    "        plt.imshow(X_train_pp[i], cmap=plt.cm.gray)\n",
    "\n",
    "        plt.subplot(rows, cols, plt_i + 2)\n",
    "        plt.title('y_train_processed')\n",
    "        plt.imshow(y_train_pp[i], cmap=plt.cm.gray)\n",
    "\n",
    "        plt_i += 2\n",
    "    \n",
    "plot_pp_io()"
   ]
  },
  {
   "cell_type": "code",
   "execution_count": null,
   "id": "c4f4cea4-ec71-4c70-854f-4f8062600733",
   "metadata": {},
   "outputs": [],
   "source": [
    "valid_i = int(len(X_train_pp) * VALID_SPLIT)\n",
    "\n",
    "X_train_f, y_train_f = X_train_pp[:valid_i], y_train_pp[:valid_i]\n",
    "X_valid_f, y_valid_f = X_train_pp[valid_i:], y_train_pp[valid_i:]"
   ]
  },
  {
   "cell_type": "code",
   "execution_count": null,
   "id": "83560c18-6b44-442b-8837-39a82d097473",
   "metadata": {},
   "outputs": [],
   "source": [
    "X_train_f.shape, y_train_f.shape, X_valid_f.shape, y_valid_f.shape"
   ]
  },
  {
   "cell_type": "markdown",
   "id": "c676ffe8-6a24-43e5-b48e-afc2f68af27c",
   "metadata": {},
   "source": [
    "# Model Instantiation"
   ]
  },
  {
   "cell_type": "code",
   "execution_count": null,
   "id": "14d16a7d",
   "metadata": {
    "tags": []
   },
   "outputs": [],
   "source": [
    "import sys\n",
    "sys.path.insert(1, '/home/quahb/caipi_denoising/src')\n",
    "\n",
    "import tensorflow as tf\n",
    "from modeling.get_model import get_model\n",
    "from modeling.callbacks import get_training_cb"
   ]
  },
  {
   "cell_type": "code",
   "execution_count": null,
   "id": "a1598159-71a6-4cf0-9d9b-666bc3afd24e",
   "metadata": {},
   "outputs": [],
   "source": [
    "strategy = tf.distribute.MirroredStrategy(devices=GPUS_TO_USE)\n",
    "\n",
    "with strategy.scope():\n",
    "    model = get_model(model_type=MODEL_TYPE, \n",
    "                      input_shape=MODEL_INPUT_SHAPE)"
   ]
  },
  {
   "cell_type": "markdown",
   "id": "0c5e23a9-0e44-4e12-b7d7-d53e41944aad",
   "metadata": {},
   "source": [
    "# Model Training"
   ]
  },
  {
   "cell_type": "code",
   "execution_count": null,
   "id": "ba4951d5-3381-4065-bfc6-924201094556",
   "metadata": {},
   "outputs": [],
   "source": [
    "cb_list = get_training_cb(patience=PATIENCE,\n",
    "                          save_path=MODEL_PATH, \n",
    "                          save_filename=MODEL_FILENAME)"
   ]
  },
  {
   "cell_type": "code",
   "execution_count": null,
   "id": "aa6e2f2e-3d61-42da-8799-73ed4235e580",
   "metadata": {},
   "outputs": [],
   "source": [
    "model.summary()"
   ]
  },
  {
   "cell_type": "code",
   "execution_count": null,
   "id": "4cb152a8",
   "metadata": {
    "tags": []
   },
   "outputs": [],
   "source": [
    "%%time\n",
    "\n",
    "history = model.fit(X_train_f, y_train_f,\n",
    "                    validation_data=(X_valid_f, y_valid_f),\n",
    "                    batch_size=BATCH_SIZE,\n",
    "                    epochs=N_EPOCHS,\n",
    "                    initial_epoch=INIT_EPOCH,\n",
    "                    callbacks=cb_list,\n",
    "                    shuffle=True)\n",
    "print(history)"
   ]
  },
  {
   "cell_type": "code",
   "execution_count": null,
   "id": "20e1cad1-ec9f-406d-a885-7d4ff307171c",
   "metadata": {},
   "outputs": [],
   "source": [
    "#model.load_weights(r'/home/quahb/caipi_denoising/models/2022-06-10/denoiser_ep06.h5')"
   ]
  },
  {
   "cell_type": "markdown",
   "id": "eaa01cfc-c050-465d-b0ff-56c953fbe830",
   "metadata": {},
   "source": [
    "# Preprocess Testing Data"
   ]
  },
  {
   "cell_type": "code",
   "execution_count": null,
   "id": "c3b80b05-a11d-4ac8-a186-696ea45cc847",
   "metadata": {},
   "outputs": [],
   "source": [
    "from src.preparation.gen_data import get_test_data"
   ]
  },
  {
   "cell_type": "code",
   "execution_count": null,
   "id": "351dce7c-0010-46de-9e61-d1c193aadf71",
   "metadata": {},
   "outputs": [],
   "source": [
    "X_test = get_test_data()"
   ]
  },
  {
   "cell_type": "code",
   "execution_count": null,
   "id": "f7ddb4ae-ac81-452f-8cb7-9077ffb37fac",
   "metadata": {},
   "outputs": [],
   "source": [
    "X_test = preprocess_data(X_test, test_preprocessing_params, \n",
    "                         X_ops=X_test_ops,\n",
    "                         shuffle=True)"
   ]
  },
  {
   "cell_type": "markdown",
   "id": "93b27f8f-4b22-48a1-b1c9-2dec48debff1",
   "metadata": {},
   "source": [
    "# Run model inference"
   ]
  },
  {
   "cell_type": "code",
   "execution_count": null,
   "id": "402017cf-d2d2-4e66-af5c-f044cfb7e0af",
   "metadata": {},
   "outputs": [],
   "source": [
    "X_test.shape"
   ]
  },
  {
   "cell_type": "code",
   "execution_count": null,
   "id": "7cd2070f-21db-4079-bde4-e3622bfba06a",
   "metadata": {},
   "outputs": [],
   "source": [
    "SHOW_N_SLICES = 50\n",
    "y_test = model.predict(X_test[:SHOW_N_SLICES],\n",
    "                       verbose=1,\n",
    "                       batch_size=30)"
   ]
  },
  {
   "cell_type": "code",
   "execution_count": null,
   "id": "5fc4ccee-cf5f-41c1-a228-e7f615db5f6c",
   "metadata": {},
   "outputs": [],
   "source": [
    "print(np.min(X_test[0]), np.max(X_test[0]), np.mean(X_test[0]))\n",
    "print(np.min(y_test[0]), np.max(y_test[0]), np.mean(y_test[0]))"
   ]
  },
  {
   "cell_type": "code",
   "execution_count": null,
   "id": "380dd80c-5798-4886-a981-e27650208987",
   "metadata": {},
   "outputs": [],
   "source": [
    "np.random.shuffle(y_test)\n",
    "y_mini = y_test[:50]"
   ]
  },
  {
   "cell_type": "code",
   "execution_count": null,
   "id": "659d179a-1825-49d8-a417-67b573999d56",
   "metadata": {},
   "outputs": [],
   "source": [
    "plt.figure(figsize=(28, 55))\n",
    "columns = 2\n",
    "rows = 25\n",
    "SHOW_N_SLICES = 50\n",
    "\n",
    "for i in range(46, y_test.shape[0], 2):\n",
    "    input_slc = X_test[i]\n",
    "    output_slc = y_test[i]\n",
    "    \n",
    "    plt.subplot(rows, columns, i + 1)\n",
    "    plt.imshow(input_slc, cmap='gray')\n",
    "    plt.subplot(rows, columns, i + 2)\n",
    "    plt.imshow(output_slc, cmap='gray')"
   ]
  },
  {
   "cell_type": "code",
   "execution_count": null,
   "id": "cce23b22-a04d-445b-9d9d-3d937dfe5b7d",
   "metadata": {},
   "outputs": [],
   "source": [
    "plt.figure(figsize=(30,70))\n",
    "columns = 2\n",
    "SHOW_N_SLICES = 50\n",
    "\n",
    "for i in range(46, y_test.shape[0], 2):\n",
    "    input_slc = X_test[i]\n",
    "    output_slc = y_test[i]\n",
    "    \n",
    "    plt.subplot(y_test.shape[0] // columns + 1, columns, i + 1)\n",
    "    plt.imshow(input_slc, cmap='gray')\n",
    "    plt.subplot(y_test.shape[0] // columns + 1, columns, i + 2)\n",
    "    plt.imshow(output_slc, cmap='gray')"
   ]
  },
  {
   "cell_type": "code",
   "execution_count": null,
   "id": "f90c2759-856d-4f4b-9fe5-f38dbec5d81a",
   "metadata": {},
   "outputs": [],
   "source": []
  }
 ],
 "metadata": {
  "kernelspec": {
   "display_name": "Python 3 (ipykernel)",
   "language": "python",
   "name": "python3"
  },
  "language_info": {
   "codemirror_mode": {
    "name": "ipython",
    "version": 3
   },
   "file_extension": ".py",
   "mimetype": "text/x-python",
   "name": "python",
   "nbconvert_exporter": "python",
   "pygments_lexer": "ipython3",
   "version": "3.8.13"
  },
  "toc-autonumbering": false,
  "toc-showcode": false,
  "toc-showmarkdowntxt": true,
  "toc-showtags": true
 },
 "nbformat": 4,
 "nbformat_minor": 5
}
