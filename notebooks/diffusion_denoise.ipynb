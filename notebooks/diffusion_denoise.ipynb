{
 "cells": [
  {
   "cell_type": "code",
   "execution_count": null,
   "id": "22a3e0fe-0c8d-4e39-b551-463725354456",
   "metadata": {
    "tags": []
   },
   "outputs": [],
   "source": [
    "import datetime\n",
    "import itertools\n",
    "import math\n",
    "import matplotlib.pyplot as plt\n",
    "import nibabel as nib\n",
    "import numpy as np\n",
    "import os\n",
    "import pdb\n",
    "import sys\n",
    "import xarray as xr\n",
    "from tqdm import tqdm\n",
    "from PIL import Image\n",
    "\n",
    "sys.path.append('/home/quahb/caipi_denoising/src')\n",
    "\n",
    "os.environ['TF_XLA_FLAGS'] = '--tf_xla_enable_xla_devices'\n",
    "os.environ['XLA_FLAGS'] = '--xla_gpu_cuda_data_dir=/home/quahb/.conda/pkgs/cuda-nvcc-12.1.105-0'\n",
    "os.environ['TF_GPU_ALLOCATOR']='cuda_malloc_async'\n",
    "os.environ['TF_CPP_MIN_LOG_LEVEL'] = '2'\n",
    "\n",
    "import tensorflow as tf\n",
    "from tensorflow import keras\n",
    "from modeling.DiffusionModel import build_model, DiffusionModel\n",
    "from preparation.prepare_tf_dataset import np_to_tfdataset\n",
    "from preparation.data_io import load_dataset\n",
    "from preparation.preprocessing_pipeline import fourier_transform, inverse_fourier_transform, low_pass_filter, rescale_magnitude\n",
    "from utils.dct import dct2, idct2\n",
    "from utils.GaussianDiffusion import GaussianDiffusion\n",
    "from utils.vizualization_tools import plot2, plot4, plot_slices, plot_patches\n",
    "\n",
    "%load_ext autoreload\n",
    "%autoreload 2\n"
   ]
  },
  {
   "cell_type": "markdown",
   "id": "3b3bd044-12c7-4371-ae06-7c17a868abc5",
   "metadata": {},
   "source": [
    "# Hyperparams"
   ]
  },
  {
   "cell_type": "code",
   "execution_count": null,
   "id": "d57603a0-838e-4652-b5ad-8a6a1a29ed9f",
   "metadata": {
    "tags": []
   },
   "outputs": [],
   "source": [
    "slc_i = 130\n",
    "\n",
    "train_batch_size = 32\n",
    "inference_batch_size = 16\n",
    "num_epochs = 501\n",
    "total_timesteps = 1000\n",
    "norm_groups = 8  # Number of groups used in GroupNormalization layer\n",
    "learning_rate = 2e-4\n",
    "\n",
    "img_size = 384 \n",
    "img_channels = 1\n",
    "\n",
    "first_conv_channels = 64\n",
    "channel_multiplier = [1, 2, 4, 8]\n",
    "widths = [first_conv_channels * mult for mult in channel_multiplier]\n",
    "has_attention = [False, False, True, True]\n",
    "num_res_blocks = 2  # Number of residual blocks"
   ]
  },
  {
   "cell_type": "markdown",
   "id": "8264c6e4-a1ce-40fd-8294-57d178826e9c",
   "metadata": {
    "tags": []
   },
   "source": [
    "## 1. Load data"
   ]
  },
  {
   "cell_type": "code",
   "execution_count": null,
   "id": "126b602d-f307-4e91-bde7-2ef97b4ebea2",
   "metadata": {
    "tags": []
   },
   "outputs": [],
   "source": [
    "t2_star = np.array(nib.load('/home/quahb/caipi_denoising/data/niftis/msrebs/CID160/3D_T2STAR_segEPI.nii.gz').dataobj)\n",
    "caipi   = np.array(nib.load('/home/quahb/caipi_denoising/data/datasets/accelerated/msrebs_compleximage/inputs/CID160_CAIPI3x2.nii.gz').dataobj)\n",
    "\n",
    "t2_star = rescale_magnitude(t2_star)\n",
    "t2_star = np.pad(\n",
    "        t2_star,\n",
    "        [(36, 36), (0,0), (0,0)],\n",
    "        constant_values=0.0\n",
    ")\n",
    "t2_star = np.flip(np.moveaxis(t2_star, 0, 1), 0)\n",
    "caipi = np.flip(np.moveaxis(caipi, 0, 1), 0)\n",
    "\n",
    "mag_caipi, pha_caipi = np.abs(caipi), np.angle(caipi)\n",
    "\n",
    "plot2(t2_star, np.abs(caipi), view='sagittal', slc_i=slc_i, title=['EPI CID160', 'CAIPI3x2 CID160'])\n",
    "plot2(t2_star, np.abs(caipi), view='axial', slc_i=slc_i, title=['EPI CID160', 'CAIPI3x2 CID160'])\n",
    "plot2(mag_caipi, pha_caipi, view='sagittal', slc_i=slc_i, title=['CAIPI3x2 CID160 Magnitude', 'CAIPI3x2 CID160 Phase'])"
   ]
  },
  {
   "cell_type": "code",
   "execution_count": null,
   "id": "a34ba7ab-556c-41d0-848b-0a1a82618192",
   "metadata": {
    "tags": []
   },
   "outputs": [],
   "source": [
    "slc_i=130\n",
    "\n",
    "ft_img = fourier_transform(caipi)\n",
    "\n",
    "lp_img128 = low_pass_filter(ft_img, window_size=128)\n",
    "ift_img128 = inverse_fourier_transform(lp_img128)\n",
    "\n",
    "lp_img192 = low_pass_filter(ft_img, window_size=192)\n",
    "ift_img192 = inverse_fourier_transform(lp_img192)\n",
    "\n",
    "#plot2(np.log(np.abs(lp_img75)), np.abs(caipi), view='sagittal')\n",
    "plot2(np.abs(np.log(lp_img128)), np.abs(ift_img128), view='sagittal', slc_i=slc_i, title=['128', '128'])\n",
    "plot2(np.abs(np.log(lp_img192)), np.abs(ift_img192), view='sagittal', slc_i=slc_i, title=['192', '192'])"
   ]
  },
  {
   "cell_type": "markdown",
   "id": "be9878a1-82df-4df2-9e1a-42f190b0f6aa",
   "metadata": {
    "tags": []
   },
   "source": [
    "## 2. Prepare Data"
   ]
  },
  {
   "cell_type": "code",
   "execution_count": null,
   "id": "cd2196b2-3688-4f91-98fc-c8aab0d4001b",
   "metadata": {
    "tags": []
   },
   "outputs": [],
   "source": [
    "# none?"
   ]
  },
  {
   "cell_type": "markdown",
   "id": "1ac3ea18-0107-408e-bebd-e66ea341d848",
   "metadata": {},
   "source": [
    "## 3. Build Denoiser"
   ]
  },
  {
   "cell_type": "code",
   "execution_count": null,
   "id": "8e2c64ce-3b8c-4f28-a104-4151b445ee8b",
   "metadata": {
    "tags": []
   },
   "outputs": [],
   "source": [
    "load_epoch = '200'\n",
    "diffusion_model_name = f'diffusion_models/diffusion_ep{load_epoch}.hd5'\n",
    "ema_diffusion_model_name = f'diffusion_models/ema_diffusion_ep{load_epoch}.hd5'\n",
    "\n",
    "# Build the unet model\n",
    "gpus = ['/GPU:0', '/GPU:1', '/GPU:2', '/GPU:3']\n",
    "strategy = tf.distribute.MirroredStrategy(devices=gpus)\n",
    "with strategy.scope():\n",
    "    network = build_model(\n",
    "        img_size=img_size,\n",
    "        img_channels=img_channels,\n",
    "        widths=widths,\n",
    "        has_attention=has_attention,\n",
    "        num_res_blocks=num_res_blocks,\n",
    "        norm_groups=norm_groups,\n",
    "        activation_fn=keras.activations.swish,\n",
    "    )\n",
    "    ema_network = build_model(\n",
    "        img_size=img_size,\n",
    "        img_channels=img_channels,\n",
    "        widths=widths,\n",
    "        has_attention=has_attention,\n",
    "        num_res_blocks=num_res_blocks,\n",
    "        norm_groups=norm_groups,\n",
    "        activation_fn=keras.activations.swish,\n",
    "    )\n",
    "    \n",
    "    network.load_weights(diffusion_model_name)\n",
    "    ema_network.load_weights(ema_diffusion_model_name)\n",
    "\n",
    "    # Get an instance of the Gaussian Diffusion utilities\n",
    "    gdf_util = GaussianDiffusion(timesteps=total_timesteps)\n",
    "\n",
    "    # Get the model\n",
    "    denoiser = DiffusionModel(\n",
    "        network=network,\n",
    "        ema_network=ema_network,\n",
    "        gdf_util=gdf_util,\n",
    "        timesteps=total_timesteps,\n",
    "    )\n",
    "    \n",
    "    denoiser.compile(\n",
    "        optimizer=keras.optimizers.Adam(learning_rate=learning_rate),\n",
    "    )"
   ]
  },
  {
   "cell_type": "markdown",
   "id": "4f8b6e63-9337-43d0-ad79-7af54c7474c0",
   "metadata": {},
   "source": [
    "## 4. Run Denoising"
   ]
  },
  {
   "cell_type": "code",
   "execution_count": null,
   "id": "7c275644-a416-478a-85f8-b3f10e8f2898",
   "metadata": {
    "tags": []
   },
   "outputs": [],
   "source": [
    "denoise_timesteps = [50, 100, 200] #, 50, 100, 250\n",
    "lambduh = [0.1, 0.075, 0.05, 0.025, 0.005, 0]\n",
    "reg_image = rescale_magnitude(np.abs(ift_img192))\n",
    "input_image = mag_caipi\n",
    "\n",
    "folder_path = '/home/quahb/caipi_denoising/data/datasets/accelerated/msrebs_magnitude/outputs'\n",
    "\n",
    "for i in itertools.product(denoise_timesteps, lambduh):\n",
    "    dt, lambduh = i\n",
    "    print(dt, lambduh)\n",
    "\n",
    "    denoised_image = denoiser.denoise_image(\n",
    "        input_image, # (384, 384, 256)\n",
    "        dt,\n",
    "        regularization_image=reg_image,\n",
    "        lambduh=lambduh\n",
    "    )\n",
    "\n",
    "    plot2(denoised_image, mag_caipi,\n",
    "          view='sagittal', \n",
    "          title=[f'Denoised {dt} time(s), Lambda: {lambduh}', f'Noisy Input Image'],\n",
    "          slc_i=slc_i\n",
    "    )\n",
    "    plot2(denoised_image, mag_caipi,\n",
    "          view='axial', \n",
    "          title=[f'Denoised {dt} time(s), Lambda: {lambduh}', f'Noisy Input Image'],\n",
    "          slc_i=slc_i\n",
    "    )\n",
    "    # fully sampled - dneoised calculate rmse\n",
    "    plot4([mag_caipi - denoised_image, t2_star, t2_star - denoised_image, reg_image],\n",
    "          view='sagittal',\n",
    "          title=['Noisy - Denoised', f'T2* Fully Sampled', f'T2* - Denoised', f'Regularization Image 128'],\n",
    "          slc_i=slc_i\n",
    "    )\n",
    "    plt.show()\n",
    "\n",
    "    file_name = os.path.join(folder_path, f'CID160_CAIPI3x2_Magnitude_DT{dt}_L{lambduh}')\n",
    "    #np.save(os.path.join(folder_path, file_name), denoised_image)\n",
    "    nii_image = nib.Nifti1Image(denoised_image, affine=np.eye(4))\n",
    "    nib.save(nii_image, file_name + '.nii.gz')"
   ]
  },
  {
   "cell_type": "code",
   "execution_count": null,
   "id": "c605fa9c-c594-4641-a9f0-c98c3b91fe02",
   "metadata": {
    "tags": []
   },
   "outputs": [],
   "source": [
    "# plot images again for comparison\n",
    "plot2(t2_star, mag_caipi, view='axial', title=['T2 Star EPI', 'CAIPI3x2'], slc_i=130)"
   ]
  },
  {
   "cell_type": "code",
   "execution_count": null,
   "id": "459ffb31-080f-47c6-90e6-733fb19f7a94",
   "metadata": {},
   "outputs": [],
   "source": []
  }
 ],
 "metadata": {
  "kernelspec": {
   "display_name": "Python 3 (ipykernel)",
   "language": "python",
   "name": "python3"
  },
  "language_info": {
   "codemirror_mode": {
    "name": "ipython",
    "version": 3
   },
   "file_extension": ".py",
   "mimetype": "text/x-python",
   "name": "python",
   "nbconvert_exporter": "python",
   "pygments_lexer": "ipython3",
   "version": "3.8.16"
  }
 },
 "nbformat": 4,
 "nbformat_minor": 5
}
