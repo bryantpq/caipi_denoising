{
 "cells": [
  {
   "cell_type": "code",
   "execution_count": null,
   "id": "7828f073-31a0-49f5-a83b-c3abe1de7fe4",
   "metadata": {},
   "outputs": [],
   "source": [
    "config_name = 'median_patches32_es16'\n",
    "full_or_patch  = 'patch'"
   ]
  },
  {
   "cell_type": "code",
   "execution_count": null,
   "id": "c6e38855-1a9e-48c9-aa73-c95438621b98",
   "metadata": {},
   "outputs": [],
   "source": [
    "import matplotlib.pyplot as plt\n",
    "import numpy as np\n",
    "import os\n",
    "\n",
    "import sys\n",
    "sys.path.insert(1, '/home/quahb/caipi_denoising/src')\n",
    "\n",
    "from utils.data_io import load_dataset\n",
    "\n",
    "dataset_folder = os.path.join('/home/quahb/caipi_denoising/data/datasets/', config_name)"
   ]
  },
  {
   "cell_type": "code",
   "execution_count": null,
   "id": "e90bf955-4c35-4c1f-b7af-f311a9b19148",
   "metadata": {},
   "outputs": [],
   "source": [
    "X, y = load_dataset(dataset_folder)\n",
    "X.shape, y.shape, np.min(X), np.max(X)"
   ]
  },
  {
   "cell_type": "code",
   "execution_count": null,
   "id": "8d51acc8-0688-4fba-84ff-50721fe31626",
   "metadata": {},
   "outputs": [],
   "source": [
    "def plot_patches(X, slc_i=0):\n",
    "    '''\n",
    "    plot first row * col patches which form a single image\n",
    "    '''\n",
    "    rows = 25\n",
    "    cols = 25\n",
    "    img_i = rows * cols * slc_i\n",
    "\n",
    "    figure, axis = plt.subplots(rows, cols, figsize=(20,20))\n",
    "    for i in range(rows):\n",
    "        for j in range(cols):\n",
    "            axis[i, j].imshow(X[img_i], cmap='gray')\n",
    "            img_i += 1\n",
    "\n",
    "    plt.show()\n",
    "    \n",
    "def plot_slices(X):\n",
    "    '''\n",
    "    plot first row * col full slices\n",
    "    '''\n",
    "    slc_i = 100 # initial slice to start from\n",
    "\n",
    "    rows = 6\n",
    "    cols = 2\n",
    "\n",
    "    figure, axis = plt.subplots(rows, cols, figsize=(18,50))\n",
    "    for i in range(rows):\n",
    "        for j in range(cols):\n",
    "            axis[i, j].imshow(X[slc_i], cmap='gray')\n",
    "            slc_i += 1"
   ]
  },
  {
   "cell_type": "code",
   "execution_count": null,
   "id": "cd05f0d7-2474-48e0-9fc4-07e9015c4215",
   "metadata": {},
   "outputs": [],
   "source": [
    "if full_or_patch == 'full':\n",
    "    plot_slices(X)\n",
    "else:\n",
    "    plot_patches(X, slc_i=15)"
   ]
  },
  {
   "cell_type": "code",
   "execution_count": null,
   "id": "476623ef-76fd-4b65-b202-124e14caa29e",
   "metadata": {},
   "outputs": [],
   "source": [
    "if full_or_patch == 'full':\n",
    "    plot_slices(y)\n",
    "else:\n",
    "    plot_patches(y, slc_i=15)"
   ]
  },
  {
   "cell_type": "code",
   "execution_count": null,
   "id": "c3d83617-d90d-4187-a65c-f7f4f2020d49",
   "metadata": {},
   "outputs": [],
   "source": []
  }
 ],
 "metadata": {
  "kernelspec": {
   "display_name": "Python 3 (ipykernel)",
   "language": "python",
   "name": "python3"
  },
  "language_info": {
   "codemirror_mode": {
    "name": "ipython",
    "version": 3
   },
   "file_extension": ".py",
   "mimetype": "text/x-python",
   "name": "python",
   "nbconvert_exporter": "python",
   "pygments_lexer": "ipython3",
   "version": "3.8.13"
  }
 },
 "nbformat": 4,
 "nbformat_minor": 5
}
