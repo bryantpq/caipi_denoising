{
 "cells": [
  {
   "cell_type": "code",
   "execution_count": null,
   "id": "7828f073-31a0-49f5-a83b-c3abe1de7fe4",
   "metadata": {},
   "outputs": [],
   "source": [
    "config_name = 'ps256_es64_loo'\n",
    "full_or_patch  = 'patch'"
   ]
  },
  {
   "cell_type": "code",
   "execution_count": null,
   "id": "c6e38855-1a9e-48c9-aa73-c95438621b98",
   "metadata": {},
   "outputs": [],
   "source": [
    "import matplotlib.pyplot as plt\n",
    "import numpy as np\n",
    "import os\n",
    "\n",
    "import sys\n",
    "sys.path.insert(1, '/home/quahb/caipi_denoising/src')\n",
    "\n",
    "from utils.data_io import load_dataset, load_patches\n",
    "\n",
    "dataset_folder = os.path.join('/home/quahb/caipi_denoising/data/datasets/', config_name)"
   ]
  },
  {
   "cell_type": "code",
   "execution_count": null,
   "id": "e90bf955-4c35-4c1f-b7af-f311a9b19148",
   "metadata": {},
   "outputs": [],
   "source": [
    "# LOAD FIRST N SLICES\n",
    "X = load_patches('X', dataset_folder, load_n_slices=200)\n",
    "y = load_patches('y', dataset_folder, load_n_slices=200)\n",
    "\n",
    "# LOAD WHOLE DATASET\n",
    "# X, y = load_dataset(dataset_folder)"
   ]
  },
  {
   "cell_type": "code",
   "execution_count": null,
   "id": "c2eb2fc6-04ff-491a-879c-8dd28b26f535",
   "metadata": {},
   "outputs": [],
   "source": [
    "X.shape, y.shape"
   ]
  },
  {
   "cell_type": "code",
   "execution_count": null,
   "id": "8d51acc8-0688-4fba-84ff-50721fe31626",
   "metadata": {},
   "outputs": [],
   "source": [
    "def plot_patches(X, pat_i=0):\n",
    "    '''\n",
    "    plot first row * col patches which form a single image\n",
    "    '''\n",
    "    rows = 5\n",
    "    cols = 5\n",
    "    img_i = rows * cols * pat_i\n",
    "\n",
    "    figure, axis = plt.subplots(rows, cols, figsize=(28,28))\n",
    "    for i in range(rows):\n",
    "        for j in range(cols):\n",
    "            slc = X[img_i]\n",
    "            axis[i, j].imshow(slc, cmap='gray')\n",
    "            label = 'min: {:.3f}, max: {:.3f}, mean: {:.3f}'.format(np.min(slc), np.max(slc), np.mean(slc))\n",
    "            axis[i, j].set(xlabel=label)\n",
    "            axis[i, j].set_title(f'Patch {img_i}')\n",
    "            img_i += 1\n",
    "\n",
    "    plt.show()\n",
    "    \n",
    "def plot_slices(X):\n",
    "    '''\n",
    "    plot first row * col full slices\n",
    "    '''\n",
    "    slc_i = 100 # initial slice to start from\n",
    "\n",
    "    rows = 6\n",
    "    cols = 2\n",
    "\n",
    "    figure, axis = plt.subplots(rows, cols, figsize=(18,50))\n",
    "    for i in range(rows):\n",
    "        for j in range(cols):\n",
    "            axis[i, j].imshow(X[slc_i], cmap='gray')\n",
    "            slc_i += 1"
   ]
  },
  {
   "cell_type": "markdown",
   "id": "4ff70fb9-c17b-4243-b522-a4b4f7d39b15",
   "metadata": {},
   "source": [
    "# Plot images, labels"
   ]
  },
  {
   "cell_type": "code",
   "execution_count": null,
   "id": "2f1dbc8c-7849-4125-a0b8-fe9410346136",
   "metadata": {},
   "outputs": [],
   "source": [
    "pat_i=20"
   ]
  },
  {
   "cell_type": "code",
   "execution_count": null,
   "id": "cd05f0d7-2474-48e0-9fc4-07e9015c4215",
   "metadata": {},
   "outputs": [],
   "source": [
    "if full_or_patch == 'full':\n",
    "    plot_slices(X)\n",
    "else:\n",
    "    plot_patches(X, pat_i=pat_i)"
   ]
  },
  {
   "cell_type": "code",
   "execution_count": null,
   "id": "476623ef-76fd-4b65-b202-124e14caa29e",
   "metadata": {},
   "outputs": [],
   "source": [
    "if full_or_patch == 'full':\n",
    "    plot_slices(y)\n",
    "else:\n",
    "    plot_patches(y, pat_i=pat_i)"
   ]
  },
  {
   "cell_type": "code",
   "execution_count": null,
   "id": "c46799c6-0e74-4358-9600-2c3edb7cea5b",
   "metadata": {},
   "outputs": [],
   "source": [
    "ii = 5*5*100 + 21\n",
    "\n",
    "figure, axis = plt.subplots(1, 2, figsize=(18,50))\n",
    "axis[0].imshow(X[ii], cmap='gray')\n",
    "axis[0].set_title(f'Patch {ii}')\n",
    "axis[0].set(xlabel=f'min: {np.min(X[ii])}, max: {np.max(X[ii])}, mean: {np.mean(X[ii])}, std: {np.std(X[ii])}')\n",
    "axis[1].imshow(y[ii], cmap='gray')\n",
    "axis[1].set(xlabel=f'min: {np.min(y[ii])}, max: {np.max(y[ii])}, mean: {np.mean(y[ii])}, std: {np.std(y[ii])}')"
   ]
  },
  {
   "cell_type": "code",
   "execution_count": null,
   "id": "bb300c04-5e67-4347-855c-6c354f6ea737",
   "metadata": {},
   "outputs": [],
   "source": [
    "slc = y[2521]\n",
    "nmap = np.random.normal(0, 0.05 * np.max(slc), slc.shape)\n",
    "print(np.max(slc))\n",
    "plt.imshow(slc + nmap, cmap='gray')"
   ]
  },
  {
   "cell_type": "code",
   "execution_count": null,
   "id": "cf0dd498-d799-4ab4-852a-939a4350ab88",
   "metadata": {},
   "outputs": [],
   "source": []
  }
 ],
 "metadata": {
  "kernelspec": {
   "display_name": "Python 3 (ipykernel)",
   "language": "python",
   "name": "python3"
  },
  "language_info": {
   "codemirror_mode": {
    "name": "ipython",
    "version": 3
   },
   "file_extension": ".py",
   "mimetype": "text/x-python",
   "name": "python",
   "nbconvert_exporter": "python",
   "pygments_lexer": "ipython3",
   "version": "3.8.13"
  }
 },
 "nbformat": 4,
 "nbformat_minor": 5
}
