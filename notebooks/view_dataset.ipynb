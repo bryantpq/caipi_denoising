{
 "cells": [
  {
   "cell_type": "markdown",
   "id": "96791ca2-2a7c-4012-999d-ba1684b16047",
   "metadata": {},
   "source": [
    "Purpose: To load and view either slices or full volumes of data\n",
    "\n",
    "Usage: To load a dataset as\n",
    "1. Slices: **2, 'full'**, i.e. (N_SLICES, 384, 384, 1)\n",
    "2. Subjects: **3, 'full'**, i.e. (N_SUBJECTS, 384, 384, 256, 1)"
   ]
  },
  {
   "cell_type": "code",
   "execution_count": null,
   "id": "253fd6b5-71b1-4aa6-8368-7bb19aaa37c9",
   "metadata": {
    "tags": []
   },
   "outputs": [],
   "source": [
    "import matplotlib.pyplot as plt\n",
    "import numpy as np\n",
    "import os\n",
    "import pdb\n",
    "import sys\n",
    "sys.path.append('/home/quahb/caipi_denoising/src')\n",
    "\n",
    "from utils.vizualization_tools import plot2, plot4, plot_slices, plot_patches, add_center_window, center_window_std\n",
    "from preparation.data_io import load_dataset\n",
    "from preparation.preprocessing_pipeline import rescale_magnitude, fourier_transform as ft, inverse_fourier_transform as ift\n",
    "\n",
    "%load_ext autoreload\n",
    "%autoreload 2"
   ]
  },
  {
   "cell_type": "markdown",
   "id": "93344395-834f-436d-a441-cfab348eabc7",
   "metadata": {},
   "source": [
    "# Load Dataset"
   ]
  },
  {
   "cell_type": "code",
   "execution_count": null,
   "id": "811a9a09-c5e2-499c-8dab-54d9d1294c6a",
   "metadata": {
    "tags": []
   },
   "outputs": [],
   "source": [
    "DIMS = 3\n",
    "FULL_OR_PATCH = 'patches'\n",
    "dataset_name = '3D_patches_complexfreq'\n",
    "\n",
    "DATA_PATH = f'/home/quahb/caipi_denoising/data/datasets/unaccelerated/{dataset_name}/'\n",
    "\n",
    "images, names = load_dataset(os.path.join(DATA_PATH, 'images'), DIMS, FULL_OR_PATCH, return_names=True, subset=10)\n",
    "labels, names = load_dataset(os.path.join(DATA_PATH, 'labels'), DIMS, FULL_OR_PATCH, return_names=True, subset=10)\n",
    "print(images.shape, images.dtype)\n",
    "print(labels.shape, labels.dtype)"
   ]
  },
  {
   "cell_type": "markdown",
   "id": "bdb0a7f5-39a6-4f71-88d3-02e2adfd6a52",
   "metadata": {},
   "source": [
    "# View Dataset"
   ]
  },
  {
   "cell_type": "code",
   "execution_count": null,
   "id": "bde79743-e399-4c7a-b02a-bc2f40080339",
   "metadata": {
    "tags": []
   },
   "outputs": [],
   "source": [
    "# Just run cell, Dont need to set params\n",
    "\n",
    "# 1. Init Viewing Params\n",
    "b_COMPLEX = False\n",
    "b_FREQ = False\n",
    "b_PATCHES = False\n",
    "\n",
    "if np.iscomplexobj(images): b_COMPLEX = True\n",
    "if 'freq' in dataset_name: b_FREQ = True\n",
    "if FULL_OR_PATCH == 'patches': b_PATCHES = True\n",
    "\n",
    "# 2. Draw plots\n",
    "if DIMS == 2:\n",
    "    # Full: [N_SLICES, 384, 384, 1]\n",
    "    # Patches: [N_PATCHES, 256, 256, 1]\n",
    "    SLICES_TO_SHOW = 5\n",
    "    INDICES = range(0, images.shape[0], 50)[:SLICES_TO_SHOW]\n",
    "    imgs, lbls = [], []\n",
    "    \n",
    "    for i in INDICES:\n",
    "        imgs.append(images[i])\n",
    "        lbls.append(labels[i])\n",
    "\n",
    "    if b_COMPLEX:  # complex data, full or patch\n",
    "        if b_FREQ:\n",
    "            imgs = [ ift(i) for i in imgs ]\n",
    "            lbls = [ ift(i) for i in lbls ]\n",
    "\n",
    "        for img, lbl in zip(imgs, lbls):\n",
    "            if b_FREQ:\n",
    "                plot2(np.abs(np.log(ft(img))), np.abs(np.log(ft(lbl))))\n",
    "            plot2(np.abs(img), np.abs(lbl))\n",
    "            plot2(np.angle(img), np.angle(lbl))\n",
    "    else:  # magnitude data, full or patch\n",
    "        for img, lbl in zip(imgs, lbls):\n",
    "            plot2(img, lbl)\n",
    "            \n",
    "elif DIMS == 3:\n",
    "    # Full: [N_SUBJECTS, 384, 384, 256, 1]\n",
    "    # Patches: [N_PATCHES, 256, 256, 256, 1]\n",
    "    \n",
    "    INDEX = 5 # Works for full or patches\n",
    "    img, lbl = images[INDEX], labels[INDEX] \n",
    "\n",
    "    if b_COMPLEX:\n",
    "        if b_FREQ:\n",
    "            ift_img, ift_lbl = ift(img), ift(lbl)\n",
    "\n",
    "        for i in range(0, img.shape[-2], 50):\n",
    "            if b_FREQ:\n",
    "                plot2(np.abs(np.log(img[:,:,i])), np.abs(np.log(lbl[:,:,i])))\n",
    "            plot2(np.abs(ift_img)[:,:,i], np.abs(ift_lbl)[:,:,i])\n",
    "            plot2(np.angle(ift_img)[:,:,i], np.angle(ift_lbl)[:,:,i])\n",
    "    else:\n",
    "        for i in range(0, img.shape[-2], 50):\n",
    "            plot2(img[:,:,i], lbl[:,:,i])"
   ]
  },
  {
   "cell_type": "code",
   "execution_count": null,
   "id": "8d9b93ef-edf3-4c34-9035-8158e9ab613c",
   "metadata": {},
   "outputs": [],
   "source": []
  }
 ],
 "metadata": {
  "kernelspec": {
   "display_name": "Python 3 (ipykernel)",
   "language": "python",
   "name": "python3"
  },
  "language_info": {
   "codemirror_mode": {
    "name": "ipython",
    "version": 3
   },
   "file_extension": ".py",
   "mimetype": "text/x-python",
   "name": "python",
   "nbconvert_exporter": "python",
   "pygments_lexer": "ipython3",
   "version": "3.8.16"
  }
 },
 "nbformat": 4,
 "nbformat_minor": 5
}
