{
 "cells": [
  {
   "cell_type": "code",
   "execution_count": null,
   "id": "dce47d3e-fc36-458a-a12b-75aaa249d925",
   "metadata": {},
   "outputs": [],
   "source": [
    "# plot sum of intensity for each slice VS slice number"
   ]
  },
  {
   "cell_type": "code",
   "execution_count": null,
   "id": "7b695da9-97ba-4b17-93bc-d70f4303b313",
   "metadata": {},
   "outputs": [],
   "source": [
    "import numpy as np\n",
    "import matplotlib.pyplot as plt\n",
    "import sys\n",
    "sys.path.insert(1, '/home/quahb/caipi_denoising/src')\n",
    "\n",
    "from preparation.gen_data import get_train_data"
   ]
  },
  {
   "cell_type": "code",
   "execution_count": null,
   "id": "73cdd723-ed48-4041-933f-d74fa03c6e36",
   "metadata": {},
   "outputs": [],
   "source": [
    "X, y = get_train_data(threshold_intensities=False)"
   ]
  },
  {
   "cell_type": "code",
   "execution_count": null,
   "id": "e739e379-158e-47dc-b8c0-61ec789accb1",
   "metadata": {},
   "outputs": [],
   "source": [
    "X.shape"
   ]
  },
  {
   "cell_type": "markdown",
   "id": "358140af-388a-4142-bf02-b114e9d843e2",
   "metadata": {},
   "source": [
    "# Raw intensities"
   ]
  },
  {
   "cell_type": "code",
   "execution_count": null,
   "id": "cf7dca00-4b7e-4c3a-81fb-1fcab16ef6d8",
   "metadata": {},
   "outputs": [],
   "source": [
    "intensities = [np.sum(slc) for slc in X]"
   ]
  },
  {
   "cell_type": "code",
   "execution_count": null,
   "id": "c36effd3-1b1f-4dd5-9404-d71fab315c42",
   "metadata": {},
   "outputs": [],
   "source": [
    "plt.figure(figsize=(25,10))\n",
    "plt.title('Sum of slice intensities')\n",
    "plt.plot(range(len(X)), intensities, [2900000 for i in range(len(X))])"
   ]
  },
  {
   "cell_type": "code",
   "execution_count": null,
   "id": "ccec104b-9ebd-4682-90e9-dc9a4e3115c4",
   "metadata": {},
   "outputs": [],
   "source": [
    "slc_i = 20\n",
    "subj_i = 0\n",
    "print(np.sum(X[256 * subj_i + slc_i]))\n",
    "plt.imshow(X[256 * subj_i + slc_i], cmap='gray')"
   ]
  },
  {
   "cell_type": "code",
   "execution_count": null,
   "id": "b0dd5395-ce7f-4db7-8f3b-899693d2b18b",
   "metadata": {},
   "outputs": [],
   "source": [
    "rows = 5\n",
    "cols = 5\n",
    "img_i = 0\n",
    "\n",
    "figure, axis = plt.subplots(rows, cols, figsize=(20,20))\n",
    "for i in range(rows):\n",
    "    for j in range(cols):\n",
    "        axis[i, j].plot(range(256), intensities[256 * img_i: 256 * img_i + 256])\n",
    "        img_i += 1\n",
    "\n",
    "plt.show()"
   ]
  },
  {
   "cell_type": "markdown",
   "id": "9a37e809-1069-4365-9d11-607d8b83a9e7",
   "metadata": {},
   "source": [
    "# Normalized Intensities"
   ]
  },
  {
   "cell_type": "code",
   "execution_count": null,
   "id": "93514794-9d80-46a6-9d89-65685da597d3",
   "metadata": {},
   "outputs": [],
   "source": [
    "mean, std = np.mean(X), np.std(X)\n",
    "norm_X = (X - mean) / std\n",
    "norm_intensities = [np.sum(slc) for slc in norm_X]"
   ]
  },
  {
   "cell_type": "code",
   "execution_count": null,
   "id": "683e143e-df37-48e4-a274-f585ca9099d2",
   "metadata": {},
   "outputs": [],
   "source": [
    "plt.figure(figsize=(25,10)) \n",
    "plt.title('Sum of normalized slice intensities')\n",
    "plt.plot(range(len(X)), norm_intensities, [-50000 for i in range(len(X))])"
   ]
  },
  {
   "cell_type": "code",
   "execution_count": null,
   "id": "c770bca0-5fd4-40a9-a6a8-1f92e4dcdad2",
   "metadata": {},
   "outputs": [],
   "source": [
    "rows = 5\n",
    "cols = 5\n",
    "img_i = 0\n",
    "\n",
    "figure, axis = plt.subplots(rows, cols, figsize=(20,20))\n",
    "for i in range(rows):\n",
    "    for j in range(cols):\n",
    "        axis[i, j].plot(range(256), norm_intensities[256 * img_i: 256 * img_i + 256])\n",
    "        img_i += 1\n",
    "\n",
    "plt.show()"
   ]
  },
  {
   "cell_type": "markdown",
   "id": "02419d43-059b-44b2-aeee-97169758672e",
   "metadata": {},
   "source": [
    "# Standardized Intensities by slice"
   ]
  },
  {
   "cell_type": "code",
   "execution_count": null,
   "id": "c229a2bd-f4ac-40a1-a0a3-d0bcff7c3431",
   "metadata": {},
   "outputs": [],
   "source": [
    "np.min(std_X), np.max(std_X)"
   ]
  },
  {
   "cell_type": "code",
   "execution_count": null,
   "id": "5362e1d2-a97f-45d8-9ca7-3fea62a79769",
   "metadata": {},
   "outputs": [],
   "source": [
    "std_X = np.zeros(X.shape)\n",
    "for i in range(len(X)):\n",
    "    min_val, max_val = np.min(X[i]), np.max(X[i])\n",
    "    num = X[i] - min_val\n",
    "    den = max_val - min_val\n",
    "    std_X[i] = num / den\n",
    "\n",
    "std_intensities = [np.sum(slc) for slc in std_X]"
   ]
  },
  {
   "cell_type": "code",
   "execution_count": null,
   "id": "8cdda9a7-c175-477e-ae91-3ae6e9234fa0",
   "metadata": {},
   "outputs": [],
   "source": [
    "plt.figure(figsize=(25,10))\n",
    "plt.plot(range(len(X)), std_intensities)"
   ]
  },
  {
   "cell_type": "code",
   "execution_count": null,
   "id": "b51c67cb-51d5-4393-9cb4-4ce1c7c8a80d",
   "metadata": {},
   "outputs": [],
   "source": [
    "rows = 5\n",
    "cols = 5\n",
    "img_i = 0\n",
    "\n",
    "figure, axis = plt.subplots(rows, cols, figsize=(20,20))\n",
    "for i in range(rows):\n",
    "    for j in range(cols):\n",
    "        axis[i, j].plot(range(256), std_intensities[256 * img_i: 256 * img_i + 256])\n",
    "        img_i += 1\n",
    "\n",
    "plt.show()"
   ]
  },
  {
   "cell_type": "code",
   "execution_count": null,
   "id": "f9cec9a0-2e69-4fa8-a751-aa7adfe8f56b",
   "metadata": {},
   "outputs": [],
   "source": []
  }
 ],
 "metadata": {
  "kernelspec": {
   "display_name": "Python 3 (ipykernel)",
   "language": "python",
   "name": "python3"
  },
  "language_info": {
   "codemirror_mode": {
    "name": "ipython",
    "version": 3
   },
   "file_extension": ".py",
   "mimetype": "text/x-python",
   "name": "python",
   "nbconvert_exporter": "python",
   "pygments_lexer": "ipython3",
   "version": "3.8.13"
  }
 },
 "nbformat": 4,
 "nbformat_minor": 5
}
