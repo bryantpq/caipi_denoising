{
 "cells": [
  {
   "cell_type": "code",
   "execution_count": null,
   "id": "dce47d3e-fc36-458a-a12b-75aaa249d925",
   "metadata": {},
   "outputs": [],
   "source": [
    "# plot sum of intensity for each slice VS slice number"
   ]
  },
  {
   "cell_type": "code",
   "execution_count": null,
   "id": "7b695da9-97ba-4b17-93bc-d70f4303b313",
   "metadata": {},
   "outputs": [],
   "source": [
    "import numpy as np\n",
    "import matplotlib.pyplot as plt\n",
    "import sys\n",
    "sys.path.insert(1, '/home/quahb/caipi_denoising/src')\n",
    "\n",
    "from preparation.gen_data import get_train_data"
   ]
  },
  {
   "cell_type": "code",
   "execution_count": null,
   "id": "73cdd723-ed48-4041-933f-d74fa03c6e36",
   "metadata": {},
   "outputs": [],
   "source": [
    "X, y = get_train_data()"
   ]
  },
  {
   "cell_type": "code",
   "execution_count": null,
   "id": "e739e379-158e-47dc-b8c0-61ec789accb1",
   "metadata": {},
   "outputs": [],
   "source": [
    "X.shape"
   ]
  },
  {
   "cell_type": "markdown",
   "id": "f55aac9d-eedf-461e-9f57-59c18ee1a977",
   "metadata": {
    "tags": []
   },
   "source": [
    "# Reconstruction Artifact"
   ]
  },
  {
   "cell_type": "markdown",
   "id": "b46175db-d7e5-405d-a4b0-a1a0d0de89c3",
   "metadata": {},
   "source": [
    "## 1. Using `sklearn`"
   ]
  },
  {
   "cell_type": "code",
   "execution_count": null,
   "id": "f6d761b6-0506-45d1-bea8-36e1e5ad8cea",
   "metadata": {},
   "outputs": [],
   "source": [
    "from preparation.preprocessing_pipeline import pad_square\n",
    "\n",
    "from sklearn.feature_extraction.image import extract_patches_2d, reconstruct_from_patches_2d\n",
    "\n",
    "from skimage.metrics import peak_signal_noise_ratio as psnr\n",
    "from skimage.metrics import structural_similarity as ssim"
   ]
  },
  {
   "cell_type": "code",
   "execution_count": null,
   "id": "6dfc7433-161c-4480-827c-fcd2f056f98a",
   "metadata": {},
   "outputs": [],
   "source": [
    "slice_i = 150\n",
    "\n",
    "slc = X[slice_i]\n",
    "slc = np.expand_dims(slc, 0)\n",
    "slc = pad_square(slc)\n",
    "\n",
    "slc = slc[0,:,:,0]\n",
    "patches = extract_patches_2d(slc, (256, 256))\n",
    "print(patches.shape)\n",
    "\n",
    "recon = reconstruct_from_patches_2d(patches, (384, 384))"
   ]
  },
  {
   "cell_type": "code",
   "execution_count": null,
   "id": "b808925c-48fd-439e-aa77-f201e6c3ccd6",
   "metadata": {},
   "outputs": [],
   "source": [
    "print(f'PSNR: {psnr(slc, recon)}')\n",
    "print(f'SSIM: {ssim(slc, recon)}')\n",
    "\n",
    "# figure, axis = plt.subplots(1, 2, figsize=(20,45))\n",
    "\n",
    "# axis[0].imshow(slc, cmap='gray')\n",
    "# axis[0].set(xlabel='min: {:.3f}, max: {:.3f}, mean: {:.3f}, std: {:.3f}'.format(np.min(slc), np.max(slc), np.mean(slc), np.std(slc)))\n",
    "\n",
    "# axis[1].imshow(recon, cmap='gray')\n",
    "# axis[1].set(xlabel='min: {:.3f}, max: {:.3f}, mean: {:.3f}, std: {:.3f}'.format(np.min(recon), np.max(recon), np.mean(recon), np.std(recon)))\n",
    "\n",
    "figure, axis = plt.subplots(2, 2, figsize=(18,18))\n",
    "\n",
    "im = slc\n",
    "stats = [np.min(im), np.max(im), np.mean(im), np.std(im)]\n",
    "axis[0, 0].imshow(im, cmap='gray')\n",
    "axis[0, 0].set_title(f'Slice {slice_i}')\n",
    "axis[0, 0].set(xlabel=f'min: {stats[0]}, max: {stats[1]}, mean: {stats[2]}, std: {stats[3]}')\n",
    "\n",
    "im= recon\n",
    "stats = [np.min(im), np.max(im), np.mean(im), np.std(im)]\n",
    "axis[0, 1].imshow(im, cmap='gray')\n",
    "axis[0, 1].set_title(f'Reconstructed')\n",
    "axis[0, 1].set(xlabel=f'min: {stats[0]}, max: {stats[1]}, mean: {stats[2]}, std: {stats[3]}')\n",
    "\n",
    "im=slc + recon\n",
    "stats = [np.min(im), np.max(im), np.mean(im), np.std(im)]\n",
    "axis[1, 0].imshow(im, cmap='gray')\n",
    "axis[1, 0].set_title(f'Add Reconstructed')\n",
    "axis[1, 0].set(xlabel=f'min: {stats[0]}, max: {stats[1]}, mean: {stats[2]}, std: {stats[3]}')\n",
    "\n",
    "im=slc - recon\n",
    "stats = [np.min(im), np.max(im), np.mean(im), np.std(im)]\n",
    "axis[1, 1].imshow(im, cmap='gray')\n",
    "axis[1, 1].set_title(f'Subtract Reconstructed')\n",
    "axis[1, 1].set(xlabel=f'min: {stats[0]}, max: {stats[1]}, mean: {stats[2]}, std: {stats[3]}')\n",
    "\n",
    "\n",
    "plt.show()"
   ]
  },
  {
   "cell_type": "markdown",
   "id": "d49aacad-77c7-47cc-b977-d8ebfecbd666",
   "metadata": {},
   "source": [
    "## 2. Using `patchify`"
   ]
  },
  {
   "cell_type": "code",
   "execution_count": null,
   "id": "80e67740-2979-406a-8ffd-dea512accafc",
   "metadata": {},
   "outputs": [],
   "source": [
    "from patchify import patchify, unpatchify"
   ]
  },
  {
   "cell_type": "code",
   "execution_count": null,
   "id": "fa1c5f93-9d11-4654-b13c-e439e2cb6ac2",
   "metadata": {},
   "outputs": [],
   "source": [
    "slice_i = 150\n",
    "\n",
    "slc = X[slice_i]\n",
    "slc = np.expand_dims(slc, 0)\n",
    "slc = pad_square(slc)\n",
    "\n",
    "slc = slc[0,:,:,0]\n",
    "print(slc.shape)\n",
    "patches = patchify(slc, (256, 256), step=(128, 128))\n",
    "print(patches.shape)\n",
    "\n",
    "recon = unpatchify(patches, (384, 384))"
   ]
  },
  {
   "cell_type": "code",
   "execution_count": null,
   "id": "c9100a95-63ba-4929-88a7-3643280375c5",
   "metadata": {},
   "outputs": [],
   "source": [
    "figure, axis = plt.subplots(2, 2, figsize=(18,18))\n",
    "axis[0,0].imshow(patches[0, 0], cmap='gray')\n",
    "axis[0,1].imshow(patches[0, 1], cmap='gray')\n",
    "axis[1,0].imshow(patches[1, 0], cmap='gray')\n",
    "axis[1,1].imshow(patches[1, 1], cmap='gray')"
   ]
  },
  {
   "cell_type": "code",
   "execution_count": null,
   "id": "7b0c989a-e172-4840-a2cf-f47c6bdfddfe",
   "metadata": {},
   "outputs": [],
   "source": [
    "print(f'PSNR: {psnr(slc, recon)}')\n",
    "print(f'SSIM: {ssim(slc, recon)}')\n",
    "\n",
    "# figure, axis = plt.subplots(1, 2, figsize=(20,45))\n",
    "\n",
    "# axis[0].imshow(slc, cmap='gray')\n",
    "# axis[0].set(xlabel='min: {:.3f}, max: {:.3f}, mean: {:.3f}, std: {:.3f}'.format(np.min(slc), np.max(slc), np.mean(slc), np.std(slc)))\n",
    "\n",
    "# axis[1].imshow(recon, cmap='gray')\n",
    "# axis[1].set(xlabel='min: {:.3f}, max: {:.3f}, mean: {:.3f}, std: {:.3f}'.format(np.min(recon), np.max(recon), np.mean(recon), np.std(recon)))\n",
    "\n",
    "figure, axis = plt.subplots(2, 2, figsize=(18,18))\n",
    "\n",
    "im = slc\n",
    "stats = [np.min(im), np.max(im), np.mean(im), np.std(im)]\n",
    "axis[0, 0].imshow(im, cmap='gray')\n",
    "axis[0, 0].set_title(f'Slice {slice_i}')\n",
    "axis[0, 0].set(xlabel=f'min: {stats[0]}, max: {stats[1]}, mean: {stats[2]}, std: {stats[3]}')\n",
    "\n",
    "im= recon\n",
    "stats = [np.min(im), np.max(im), np.mean(im), np.std(im)]\n",
    "axis[0, 1].imshow(im, cmap='gray')\n",
    "axis[0, 1].set_title(f'Reconstructed')\n",
    "axis[0, 1].set(xlabel=f'min: {stats[0]}, max: {stats[1]}, mean: {stats[2]}, std: {stats[3]}')\n",
    "\n",
    "im=slc + recon\n",
    "stats = [np.min(im), np.max(im), np.mean(im), np.std(im)]\n",
    "axis[1, 0].imshow(im, cmap='gray')\n",
    "axis[1, 0].set_title(f'Add Reconstructed')\n",
    "axis[1, 0].set(xlabel=f'min: {stats[0]}, max: {stats[1]}, mean: {stats[2]}, std: {stats[3]}')\n",
    "\n",
    "im=slc - recon\n",
    "stats = [np.min(im), np.max(im), np.mean(im), np.std(im)]\n",
    "axis[1, 1].imshow(im, cmap='gray')\n",
    "axis[1, 1].set_title(f'Subtract Reconstructed')\n",
    "axis[1, 1].set(xlabel=f'min: {stats[0]}, max: {stats[1]}, mean: {stats[2]}, std: {stats[3]}')\n",
    "\n",
    "\n",
    "plt.show()"
   ]
  },
  {
   "cell_type": "markdown",
   "id": "358140af-388a-4142-bf02-b114e9d843e2",
   "metadata": {},
   "source": [
    "# Raw intensities"
   ]
  },
  {
   "cell_type": "code",
   "execution_count": null,
   "id": "cf7dca00-4b7e-4c3a-81fb-1fcab16ef6d8",
   "metadata": {},
   "outputs": [],
   "source": [
    "intensities = [np.sum(slc) for slc in X]"
   ]
  },
  {
   "cell_type": "code",
   "execution_count": null,
   "id": "c36effd3-1b1f-4dd5-9404-d71fab315c42",
   "metadata": {},
   "outputs": [],
   "source": [
    "plt.figure(figsize=(25,10))\n",
    "plt.plot(range(len(X)), intensities, range(len(X)), [2900000 for i in range(len(X))], range(len(X)), [5500000 for i in range(len(X))])\n",
    "plt.xlabel('Slice Number')\n",
    "plt.ylabel('Sum of slice intensity')"
   ]
  },
  {
   "cell_type": "code",
   "execution_count": null,
   "id": "ccec104b-9ebd-4682-90e9-dc9a4e3115c4",
   "metadata": {},
   "outputs": [],
   "source": [
    "slc_i = 220\n",
    "subj_i = 30\n",
    "print(np.sum(X[256 * subj_i + slc_i]))\n",
    "plt.imshow(X[256 * subj_i + slc_i], cmap='gray')"
   ]
  },
  {
   "cell_type": "code",
   "execution_count": null,
   "id": "b0dd5395-ce7f-4db7-8f3b-899693d2b18b",
   "metadata": {},
   "outputs": [],
   "source": [
    "rows = 5\n",
    "cols = 5\n",
    "img_i = 0\n",
    "\n",
    "figure, axis = plt.subplots(rows, cols, figsize=(20,20))\n",
    "for i in range(rows):\n",
    "    for j in range(cols):\n",
    "        axis[i, j].plot(range(256), intensities[256 * img_i: 256 * img_i + 256])\n",
    "        img_i += 1\n",
    "\n",
    "plt.show()"
   ]
  },
  {
   "cell_type": "markdown",
   "id": "9a37e809-1069-4365-9d11-607d8b83a9e7",
   "metadata": {},
   "source": [
    "# Normalized Intensities"
   ]
  },
  {
   "cell_type": "code",
   "execution_count": null,
   "id": "93514794-9d80-46a6-9d89-65685da597d3",
   "metadata": {},
   "outputs": [],
   "source": [
    "mean, std = np.mean(X), np.std(X)\n",
    "norm_X = (X - mean) / std\n",
    "norm_intensities = [np.sum(slc) for slc in norm_X]"
   ]
  },
  {
   "cell_type": "code",
   "execution_count": null,
   "id": "683e143e-df37-48e4-a274-f585ca9099d2",
   "metadata": {},
   "outputs": [],
   "source": [
    "plt.figure(figsize=(25,10)) \n",
    "plt.title('Sum of normalized slice intensities')\n",
    "plt.plot(range(len(X)), norm_intensities, [-50000 for i in range(len(X))])"
   ]
  },
  {
   "cell_type": "code",
   "execution_count": null,
   "id": "c770bca0-5fd4-40a9-a6a8-1f92e4dcdad2",
   "metadata": {},
   "outputs": [],
   "source": [
    "rows = 5\n",
    "cols = 5\n",
    "img_i = 0\n",
    "\n",
    "figure, axis = plt.subplots(rows, cols, figsize=(20,20))\n",
    "for i in range(rows):\n",
    "    for j in range(cols):\n",
    "        axis[i, j].plot(range(256), norm_intensities[256 * img_i: 256 * img_i + 256])\n",
    "        img_i += 1\n",
    "\n",
    "plt.show()"
   ]
  },
  {
   "cell_type": "markdown",
   "id": "02419d43-059b-44b2-aeee-97169758672e",
   "metadata": {},
   "source": [
    "# Standardize Intensities by subject"
   ]
  },
  {
   "cell_type": "code",
   "execution_count": null,
   "id": "5362e1d2-a97f-45d8-9ca7-3fea62a79769",
   "metadata": {},
   "outputs": [],
   "source": [
    "std_X = np.zeros(X.shape)\n",
    "for i in range(int(len(X) / 256)):\n",
    "    subj_vol = X[i * 256: i * 256 + 256]\n",
    "    min_val, max_val = np.min(subj_vol), np.max(subj_vol)\n",
    "    num = subj_vol - min_val\n",
    "    den = max_val - min_val\n",
    "    std_X[i * 256: i * 256 + 256] = num / den\n",
    "\n",
    "std_intensities = [np.sum(slc) for slc in std_X]\n",
    "min(std_intensities)"
   ]
  },
  {
   "cell_type": "code",
   "execution_count": null,
   "id": "901cacae-ac4f-47ec-9547-fb6a7f9db697",
   "metadata": {},
   "outputs": [],
   "source": [
    "count = 0\n",
    "for i in std_intensities: \n",
    "    if i >= 5000: \n",
    "        count += 1\n",
    "count"
   ]
  },
  {
   "cell_type": "code",
   "execution_count": null,
   "id": "8cdda9a7-c175-477e-ae91-3ae6e9234fa0",
   "metadata": {},
   "outputs": [],
   "source": [
    "plt.figure(figsize=(25,10))\n",
    "plt.plot(range(len(X)), std_intensities, [5000 for i in range(len(X))])\n",
    "plt.xlabel('Slice Number')\n",
    "plt.ylabel('Sum of slice intensity')"
   ]
  },
  {
   "cell_type": "code",
   "execution_count": null,
   "id": "b51c67cb-51d5-4393-9cb4-4ce1c7c8a80d",
   "metadata": {},
   "outputs": [],
   "source": [
    "rows = 5\n",
    "cols = 5\n",
    "img_i = 0\n",
    "\n",
    "figure, axis = plt.subplots(rows, cols, figsize=(20,20))\n",
    "for i in range(rows):\n",
    "    for j in range(cols):\n",
    "        axis[i, j].plot(range(256), std_intensities[256 * img_i: 256 * img_i + 256])\n",
    "        img_i += 1\n",
    "\n",
    "plt.show()"
   ]
  },
  {
   "cell_type": "code",
   "execution_count": null,
   "id": "f9cec9a0-2e69-4fa8-a751-aa7adfe8f56b",
   "metadata": {},
   "outputs": [],
   "source": []
  }
 ],
 "metadata": {
  "kernelspec": {
   "display_name": "Python 3 (ipykernel)",
   "language": "python",
   "name": "python3"
  },
  "language_info": {
   "codemirror_mode": {
    "name": "ipython",
    "version": 3
   },
   "file_extension": ".py",
   "mimetype": "text/x-python",
   "name": "python",
   "nbconvert_exporter": "python",
   "pygments_lexer": "ipython3",
   "version": "3.8.13"
  }
 },
 "nbformat": 4,
 "nbformat_minor": 5
}
