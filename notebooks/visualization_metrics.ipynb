{
 "cells": [
  {
   "cell_type": "code",
   "execution_count": null,
   "id": "30c9a2f9-47ad-486c-9113-9e72984a6072",
   "metadata": {
    "tags": []
   },
   "outputs": [],
   "source": [
    "!ls -lrt /home/quahb/caipi_denoising/data/results\n",
    "!ls -lrt /home/quahb/caipi_denoising/data/datasets"
   ]
  },
  {
   "cell_type": "code",
   "execution_count": null,
   "id": "59d19385-d176-4b7d-9682-f1fe38de91a7",
   "metadata": {
    "tags": []
   },
   "outputs": [],
   "source": [
    "denoised_name = 'ps256_th_varynoise_m3_reg_test'\n",
    "\n",
    "import json\n",
    "import numpy as np\n",
    "import nibabel as nib\n",
    "import matplotlib as mpl\n",
    "from datetime import date\n",
    "mpl.rc('image', cmap='gray')\n",
    "\n",
    "import matplotlib.pyplot as plt\n",
    "\n",
    "\n",
    "import sys\n",
    "import nibabel as nib\n",
    "import os\n",
    "\n",
    "sys.path.insert(1, '/home/quahb/caipi_denoising/src')\n",
    "\n",
    "%load_ext autoreload\n",
    "%autoreload 2\n",
    "\n",
    "from preparation.gen_data import get_masks, get_array_values_from_mask\n",
    "from utils.data_io import load_dataset\n",
    "\n",
    "from evaluation.compute_metrics import compute_metrics"
   ]
  },
  {
   "cell_type": "markdown",
   "id": "d3e8febb-5814-454b-a860-9463ce18b138",
   "metadata": {},
   "source": [
    "# Load dataset"
   ]
  },
  {
   "cell_type": "code",
   "execution_count": null,
   "id": "3bc24a04-23c4-4354-bb13-561937529bf9",
   "metadata": {
    "tags": []
   },
   "outputs": [],
   "source": [
    "mask_data = get_masks()\n",
    "train_data = load_dataset('/home/quahb/caipi_denoising/data/datasets/training_set_pp')\n",
    "test_data = load_dataset('/home/quahb/caipi_denoising/data/datasets/testing_set_pp')\n",
    "reg_test_data = load_dataset('/home/quahb/caipi_denoising/data/datasets/reg_testing_set_pp')\n",
    "denoised = load_dataset(f'/home/quahb/caipi_denoising/data/results/{denoised_name}')\n",
    "\n",
    "\n",
    "subj_ids = list(mask_data.keys())\n",
    "dataset = {}\n",
    "\n",
    "for i, subj_id in enumerate(subj_ids):\n",
    "    dataset[subj_id] = {}\n",
    "    dataset[subj_id]['data'] = {}\n",
    "    \n",
    "    for key, val in train_data.items():\n",
    "        if subj_id in key:\n",
    "            dataset[subj_id]['data']['epi'] = val[0]\n",
    "            break\n",
    "\n",
    "    for key, val in reg_test_data.items():\n",
    "        if subj_id in key and '1x2' in key:\n",
    "            dataset[subj_id]['data']['reg1x2'] = val[0]\n",
    "        elif subj_id in key and '1x3' in key:\n",
    "            dataset[subj_id]['data']['reg1x3'] = val[0]\n",
    "        elif subj_id in key and '2x2' in key:\n",
    "            dataset[subj_id]['data']['reg2x2'] = val[0]\n",
    "\n",
    "    dataset[subj_id]['data']['lesion_mask'] = mask_data[subj_id]['probability_map']\n",
    "    dataset[subj_id]['data']['vein_mask'] = mask_data[subj_id]['vein_mask']\n",
    "    dataset[subj_id]['data']['wm_mask'] = mask_data[subj_id]['3D_T1_Reg_pve_2']\n",
    "    \n",
    "    for key, val in denoised.items(): # val is tuple of (input image, denoised image)\n",
    "        if subj_id in key and '1x2' in key:\n",
    "            dataset[subj_id]['data']['run1x2'] = val\n",
    "        elif subj_id in key and '1x3' in key:\n",
    "            dataset[subj_id]['data']['run1x3'] = val\n",
    "        elif subj_id in key and '2x2' in key:\n",
    "            dataset[subj_id]['data']['run2x2'] = val\n",
    "            \n",
    "print(dataset['1_01_016-V1']['data'].keys())"
   ]
  },
  {
   "cell_type": "markdown",
   "id": "fce17aad-7e8f-4855-9d03-1bdfb98cc90c",
   "metadata": {},
   "source": [
    "# Compute & Load metrics into dataset"
   ]
  },
  {
   "cell_type": "code",
   "execution_count": null,
   "id": "b92ffd85-659c-4ff0-98a4-97bae8ef8294",
   "metadata": {
    "tags": []
   },
   "outputs": [],
   "source": [
    "'''\n",
    "dataset: {\n",
    "    subj_id: {\n",
    "        data: {\n",
    "            EPI: arr\n",
    "            reg1x2: arr\n",
    "            reg1x3: arr\n",
    "            reg2x2: arr\n",
    "            wm_mask: arr\n",
    "            vein_mask: arr\n",
    "            lesion_mask: arr\n",
    "            run1x2: (x,y)\n",
    "            run1x3: (x,y)\n",
    "            run2x2: (x,y)\n",
    "        }\n",
    "        metrics: {\n",
    "            1x2: {\n",
    "                psnr: (native, denoised)\n",
    "                ssim: ()\n",
    "                cnr_vw: ()\n",
    "                cnr_lv: ()\n",
    "                ...\n",
    "            }\n",
    "            1x3: {}\n",
    "            2x2: {}\n",
    "        }\n",
    "    }\n",
    "}\n",
    "'''\n",
    "\n",
    "N=len(subj_ids)\n",
    "\n",
    "for i, subj_id in enumerate(list(dataset.keys())[:N]):\n",
    "    print(i, subj_id)\n",
    "    dataset[subj_id]['metrics'] = {}\n",
    "    dataset[subj_id]['metrics']['1x2'] = {}\n",
    "    dataset[subj_id]['metrics']['1x3'] = {}\n",
    "    dataset[subj_id]['metrics']['2x2'] = {}\n",
    "\n",
    "    epi = dataset[subj_id]['data']['epi']\n",
    "    wm_mask = dataset[subj_id]['data']['wm_mask']\n",
    "    vein_mask = dataset[subj_id]['data']['vein_mask']\n",
    "    lesion_mask = dataset[subj_id]['data']['lesion_mask']\n",
    "    \n",
    "    # brain_mask = dataset[subj_id]['data']['brain_mask']\n",
    "    #brain_mask = np.moveaxis(nib.load('/home/quahb/Mask_Reg.nii.gz').get_fdata(), 1, 0)\n",
    "    #brain_mask = np.array(np.moveaxis(nib.load('/home/quahb/Mask_Reg.nii.gz').get_fdata(), 1, 0) > 0.5, dtype=np.uint8)\n",
    "\n",
    "    reg1x2, run1x2 = dataset[subj_id]['data']['reg1x2'], dataset[subj_id]['data']['run1x2'][1]\n",
    "    reg1x3, run1x3 = dataset[subj_id]['data']['reg1x3'], dataset[subj_id]['data']['run1x3'][1]\n",
    "    reg2x2, run2x2 = dataset[subj_id]['data']['reg2x2'], dataset[subj_id]['data']['run2x2'][1]\n",
    "\n",
    "    dataset[subj_id]['metrics']['1x2'] = ( compute_metrics(epi, reg1x2, vein_mask, wm_mask, lesion_mask), \n",
    "                                           compute_metrics(epi, run1x2, vein_mask, wm_mask, lesion_mask) )\n",
    "    dataset[subj_id]['metrics']['1x3'] = ( compute_metrics(epi, reg1x3, vein_mask, wm_mask, lesion_mask), \n",
    "                                           compute_metrics(epi, run1x3, vein_mask, wm_mask, lesion_mask) )\n",
    "    dataset[subj_id]['metrics']['2x2'] = ( compute_metrics(epi, reg2x2, vein_mask, wm_mask, lesion_mask), \n",
    "                                           compute_metrics(epi, run2x2, vein_mask, wm_mask, lesion_mask) )"
   ]
  },
  {
   "cell_type": "markdown",
   "id": "0ff183b1-e06b-42a2-a5f8-b72cc2d7d02f",
   "metadata": {},
   "source": [
    "# Save Metrics to File"
   ]
  },
  {
   "cell_type": "code",
   "execution_count": null,
   "id": "651ff654-eb19-44fb-a9a3-7494cd61c799",
   "metadata": {
    "tags": []
   },
   "outputs": [],
   "source": [
    "save_dict = {}\n",
    "\n",
    "for subj_id in dataset.keys():\n",
    "    save_dict[subj_id] = {}\n",
    "    save_dict[subj_id] = dataset[subj_id]['metrics']\n",
    "\n",
    "s_date = str(date.today())\n",
    "with open(f'/home/quahb/caipi_denoising/metrics/{denoised_name}_{s_date}.json', 'w') as outfile:\n",
    "    json.dump(save_dict, outfile)"
   ]
  },
  {
   "cell_type": "markdown",
   "id": "dc04d9c1-ec60-488b-806b-a7c588c24fd3",
   "metadata": {
    "tags": []
   },
   "source": [
    "# Compute Average Values from Previously Computed Metrics"
   ]
  },
  {
   "cell_type": "code",
   "execution_count": null,
   "id": "f4539603-2635-4b44-8ef2-feaf14a8e89b",
   "metadata": {
    "tags": []
   },
   "outputs": [],
   "source": [
    "dataset['1_07_006-V1']['metrics']['2x2'][0].keys()"
   ]
  },
  {
   "cell_type": "code",
   "execution_count": null,
   "id": "337f3861-8b5e-4ec9-bef4-402e44497575",
   "metadata": {
    "tags": []
   },
   "outputs": [],
   "source": [
    "# Compute averages\n",
    "ACC='2x2'\n",
    "\n",
    "metrics_to_compute = [\n",
    "    'mse', 'psnr', 'snr',\n",
    "    'ssim', 'luminance', 'contrast', 'structure', \n",
    "    'cnr_vw', 'cnr_lv', 'cnr_lw'\n",
    "]\n",
    "\n",
    "mse_before, mse_after = [], []\n",
    "psnr_before, psnr_after = [], []\n",
    "snr_before, snr_after = [], []\n",
    "ssim_before, ssim_after = [], []\n",
    "luminance_before, luminance_after = [], []\n",
    "contrast_before, contrast_after = [], []\n",
    "structure_before, structure_after = [], []\n",
    "cnr_vw_before, cnr_vw_after = [], []\n",
    "cnr_lv_before, cnr_lv_after = [], []\n",
    "cnr_lw_before, cnr_lw_after = [], []\n",
    "\n",
    "for subj_id in dataset.keys():\n",
    "    if 'mse' in metrics_to_compute:\n",
    "        mse_before.append(dataset[subj_id]['metrics'][ACC][0]['mse'])\n",
    "        mse_after.append(dataset[subj_id]['metrics'][ACC][1]['mse'])\n",
    "    \n",
    "    if 'psnr' in metrics_to_compute:\n",
    "        psnr_before.append(dataset[subj_id]['metrics'][ACC][0]['psnr'])\n",
    "        psnr_after.append(dataset[subj_id]['metrics'][ACC][1]['psnr'])\n",
    "  \n",
    "    if 'snr' in metrics_to_compute:\n",
    "        snr_before.append(dataset[subj_id]['metrics'][ACC][0]['snr'])\n",
    "        snr_after.append(dataset[subj_id]['metrics'][ACC][1]['snr'])\n",
    "\n",
    "    if 'ssim' in metrics_to_compute:\n",
    "        ssim_before.append(dataset[subj_id]['metrics'][ACC][0]['ssim'])\n",
    "        ssim_after.append(dataset[subj_id]['metrics'][ACC][1]['ssim'])\n",
    "\n",
    "    if 'luminance' in metrics_to_compute:\n",
    "        luminance_before.append(dataset[subj_id]['metrics'][ACC][0]['luminance'])\n",
    "        luminance_after.append(dataset[subj_id]['metrics'][ACC][1]['luminance'])\n",
    "\n",
    "    if 'contrast' in metrics_to_compute:\n",
    "        contrast_before.append(dataset[subj_id]['metrics'][ACC][0]['contrast'])\n",
    "        contrast_after.append(dataset[subj_id]['metrics'][ACC][1]['contrast'])\n",
    "\n",
    "    if 'structure' in metrics_to_compute:\n",
    "        structure_before.append(dataset[subj_id]['metrics'][ACC][0]['structure'])\n",
    "        structure_after.append(dataset[subj_id]['metrics'][ACC][1]['structure'])\n",
    "\n",
    "    if 'cnr_vw' in metrics_to_compute:\n",
    "        cnr_vw_before.append(dataset[subj_id]['metrics'][ACC][0]['cnr_vw'])\n",
    "        cnr_vw_after.append(dataset[subj_id]['metrics'][ACC][1]['cnr_vw'])\n",
    "\n",
    "    if 'cnr_lv' in metrics_to_compute:\n",
    "        cnr_lv_before.append(dataset[subj_id]['metrics'][ACC][0]['cnr_lv'])\n",
    "        cnr_lv_after.append(dataset[subj_id]['metrics'][ACC][1]['cnr_lv'])\n",
    "\n",
    "    if 'cnr_lw' in metrics_to_compute:\n",
    "        cnr_lw_before.append(dataset[subj_id]['metrics'][ACC][0]['cnr_lw'])\n",
    "        cnr_lw_after.append(dataset[subj_id]['metrics'][ACC][1]['cnr_lw'])\n",
    "\n",
    "if True:\n",
    "    for i in range(len(subj_ids)):\n",
    "        print(\n",
    "              mse_before[i],       ', ', mse_after[i],       ', ',\n",
    "              psnr_before[i],      ', ', psnr_after[i],      ', ',\n",
    "              snr_before[i],       ', ', snr_after[i],       ', ',\n",
    "              ssim_before[i],      ', ', ssim_after[i],      ', ',\n",
    "              luminance_before[i], ', ', luminance_after[i], ', ',\n",
    "              contrast_before[i],  ', ', contrast_after[i],  ', ',\n",
    "              structure_before[i], ', ', structure_after[i], ', ',\n",
    "              cnr_vw_before[i],    ', ', cnr_vw_after[i],    ', ',\n",
    "              cnr_lv_before[i],    ', ', cnr_lv_after[i],    ', ',\n",
    "              cnr_lw_before[i],    ', ', cnr_lw_after[i]\n",
    "              )"
   ]
  },
  {
   "cell_type": "markdown",
   "id": "fd9d7beb-de95-4a19-b96e-0f080c8cdca2",
   "metadata": {},
   "source": [
    "# Plot CAIPI Before/After Denoising with metrics"
   ]
  },
  {
   "cell_type": "code",
   "execution_count": null,
   "id": "db40eaef-90b5-48ff-80dc-3ed37bf28d49",
   "metadata": {
    "tags": []
   },
   "outputs": [],
   "source": [
    "plt.rcParams.update({'font.size': 13})\n",
    "\n",
    "def make_plot(subj_id, view, slice_idx):\n",
    "    n_rows, n_cols = 2, 4\n",
    "    figure, axis = plt.subplots(n_rows, n_cols, figsize=(28, n_rows * 9))\n",
    "\n",
    "    data, metrics = dataset[subj_id]['data'], dataset[subj_id]['metrics']\n",
    "\n",
    "    if view == 'axial':\n",
    "        view = tuple([slice(slice_idx, slice_idx + 1), slice(312), slice(256)])\n",
    "    elif view == 'coronal':\n",
    "        view = tuple([slice(384), slice(slice_idx, slice_idx + 1), slice(256)])\n",
    "    elif view == 'sagittal':\n",
    "        view = tuple([slice(384), slice(312), slice(slice_idx, slice_idx + 1)])\n",
    "\n",
    "    stats_text = 'min: {:.2f}, max: {:.2f}, mean: {:.2f}, std: {:.2f}'\n",
    "    primary_metrics_text = 'PSNR: {:.3f}, SSIM: {:.3f}, CNR (V-WM, V-L): {:.3f}, {:.3f}'\n",
    "    secondary_metrics_text = 'Luminance: {:.3f}, Contrast: {:.3f}, Structure: {:.3f}'\n",
    "\n",
    "    epi_bottom_text = stats_text\n",
    "    caipi_bottom_text = primary_metrics_text + '\\n' + secondary_metrics_text + '\\n' + stats_text\n",
    "\n",
    "\n",
    "    im, slc_im = data['epi'].astype(np.float64), np.squeeze(data['epi'][view])\n",
    "    axis[0, 0].imshow(slc_im)\n",
    "    axis[0, 0].set_title(f'{subj_id}')\n",
    "    axis[0, 0].set(xlabel=epi_bottom_text.format(\n",
    "            np.min(im), np.max(im), np.mean(im), np.std(im)\n",
    "    ))\n",
    "\n",
    "    for i, acc in zip(range(1,4), ['1x2', '1x3', '2x2']):\n",
    "        im, slc_im = data[f'reg{acc}'].astype(np.float64), np.squeeze(data[f'reg{acc}'][view])\n",
    "        axis[0, i].imshow(slc_im)\n",
    "        axis[0, i].set_title(f'Registered CAIPI{acc}')\n",
    "        axis[0, i].set(xlabel=caipi_bottom_text.format(\n",
    "                metrics[acc][0]['psnr'], metrics[acc][0]['ssim'], metrics[acc][0]['cnr_vw'], metrics[acc][0]['cnr_lv'],\n",
    "                metrics[acc][0]['luminance'], metrics[acc][0]['contrast'], metrics[acc][0]['structure'],\n",
    "                np.min(im), np.max(im), np.mean(im), np.std(im)\n",
    "        ))\n",
    "\n",
    "    im, slc_im = data['epi'].astype(np.float64), np.squeeze(data['epi'][view])\n",
    "    axis[1, 0].imshow(slc_im)\n",
    "    axis[1, 0].set_title(f'{subj_id}')\n",
    "    axis[1, 0].set(xlabel=epi_bottom_text.format(\n",
    "            np.min(im), np.max(im), np.mean(im), np.std(im)\n",
    "    ))\n",
    "\n",
    "    for i, acc in zip(range(1,4), ['1x2', '1x3', '2x2']):\n",
    "        im, slc_im = data[f'run{acc}'][1].astype(np.float64), np.squeeze(data[f'run{acc}'][1][view])\n",
    "        axis[1, i].imshow(slc_im)\n",
    "        axis[1, i].set_title(f'Denoised')\n",
    "        axis[1, i].set(xlabel=caipi_bottom_text.format(\n",
    "                metrics[acc][1]['psnr'], metrics[acc][1]['ssim'], metrics[acc][1]['cnr_vw'], metrics[acc][1]['cnr_lv'],\n",
    "                metrics[acc][1]['luminance'], metrics[acc][1]['contrast'], metrics[acc][1]['structure'],\n",
    "                np.min(im), np.max(im), np.mean(im), np.std(im)\n",
    "        ))"
   ]
  },
  {
   "cell_type": "code",
   "execution_count": null,
   "id": "247f066a-9280-4ca5-a7ab-be0cbdd950b7",
   "metadata": {
    "tags": []
   },
   "outputs": [],
   "source": [
    "print(subj_ids)"
   ]
  },
  {
   "cell_type": "code",
   "execution_count": null,
   "id": "6a62630e-49e1-4c6c-8e0c-ecd62249d1d7",
   "metadata": {
    "tags": []
   },
   "outputs": [],
   "source": [
    "make_plot('1_01_016-V1', 'sagittal', 128)"
   ]
  },
  {
   "cell_type": "code",
   "execution_count": null,
   "id": "546a8bfd-4645-4f66-a7b0-1902edff601b",
   "metadata": {},
   "outputs": [],
   "source": []
  },
  {
   "cell_type": "code",
   "execution_count": null,
   "id": "14240101-c028-454f-b12d-13a5af1be29b",
   "metadata": {},
   "outputs": [],
   "source": []
  }
 ],
 "metadata": {
  "kernelspec": {
   "display_name": "Python 3 (ipykernel)",
   "language": "python",
   "name": "python3"
  },
  "language_info": {
   "codemirror_mode": {
    "name": "ipython",
    "version": 3
   },
   "file_extension": ".py",
   "mimetype": "text/x-python",
   "name": "python",
   "nbconvert_exporter": "python",
   "pygments_lexer": "ipython3",
   "version": "3.8.13"
  }
 },
 "nbformat": 4,
 "nbformat_minor": 5
}
